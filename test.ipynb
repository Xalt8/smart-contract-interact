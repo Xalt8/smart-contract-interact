{
 "cells": [
  {
   "cell_type": "code",
   "execution_count": null,
   "metadata": {},
   "outputs": [],
   "source": [
    "import pandas as pd\n",
    "import numpy as np"
   ]
  },
  {
   "cell_type": "code",
   "execution_count": null,
   "metadata": {},
   "outputs": [],
   "source": []
  },
  {
   "cell_type": "code",
   "execution_count": null,
   "metadata": {},
   "outputs": [],
   "source": [
    "ents = [(32592188, '0x3f789c6d47b6b29c58e0534a3e9c8c325c088b2411d1b7c76dfb3fcea7e8130b'), \n",
    "        (32592368, '0x6799085cec26aedb774a27554f7da7c5a4205e69737ff6e730fd5ab662081d6c'),\n",
    "        (32592420, '0x82ea0cc9a3311c74c0b7d8ea896474eb4444d43edd6157d48708f2d62100b2ef')]"
   ]
  },
  {
   "cell_type": "code",
   "execution_count": null,
   "metadata": {},
   "outputs": [],
   "source": [
    "df = pd.DataFrame(data=ents, columns = ['blockNumber', 'transactionHash'])"
   ]
  },
  {
   "cell_type": "code",
   "execution_count": null,
   "metadata": {},
   "outputs": [],
   "source": [
    "df.to_csv('ping_data.csv', index=False)"
   ]
  },
  {
   "cell_type": "code",
   "execution_count": null,
   "metadata": {},
   "outputs": [],
   "source": [
    "pd_df = pd.read_csv('ping_data.csv')"
   ]
  },
  {
   "cell_type": "code",
   "execution_count": null,
   "metadata": {},
   "outputs": [],
   "source": [
    "pd_df"
   ]
  },
  {
   "cell_type": "code",
   "execution_count": null,
   "metadata": {},
   "outputs": [],
   "source": [
    "one = (32592420, '0x82ea0cc9a3311c74c0b7d8ea896474eb4444d43edd6157d48708f2d62100b2ef')\n",
    "two = (32592420, '0x82ea0cc9a3311c74c0b7d8ea896474eb4444d43edd6157d48708f2d62100b2fg')"
   ]
  },
  {
   "cell_type": "code",
   "execution_count": null,
   "metadata": {},
   "outputs": [],
   "source": []
  },
  {
   "cell_type": "code",
   "execution_count": null,
   "metadata": {},
   "outputs": [],
   "source": [
    "# def data_in_ping_df(ping_data:tuple)-> bool:\n",
    "#     global pd_df\n",
    "#     return ping_data[1] in pd_df['transactionHash'].values"
   ]
  },
  {
   "cell_type": "code",
   "execution_count": null,
   "metadata": {},
   "outputs": [],
   "source": [
    "def add_to_ping_csv(ping_data:tuple) -> None:\n",
    "    _, transactionHash = ping_data\n",
    "    # Open the csv into a df\n",
    "    pd_df = pd.read_csv('ping_data.csv')\n",
    "    # Check to see if the data exists\n",
    "    if not transactionHash in pd_df['transactionHash'].values:\n",
    "        # Add ping_data to df\n",
    "        pd_df.loc[len(pd_df)] = ping_data\n",
    "    # Write df to CSF\n",
    "    pd_df.to_csv('ping_data.csv', index=False)"
   ]
  },
  {
   "cell_type": "code",
   "execution_count": null,
   "metadata": {},
   "outputs": [],
   "source": [
    "add_to_ping_csv(one)"
   ]
  },
  {
   "cell_type": "code",
   "execution_count": null,
   "metadata": {},
   "outputs": [],
   "source": [
    "add_to_ping_csv(two)"
   ]
  },
  {
   "cell_type": "code",
   "execution_count": null,
   "metadata": {},
   "outputs": [],
   "source": [
    "pd_df =  pd.read_csv('ping_data.csv')"
   ]
  },
  {
   "cell_type": "code",
   "execution_count": null,
   "metadata": {},
   "outputs": [],
   "source": [
    "tuple(pd_df.iloc[-1].values)"
   ]
  },
  {
   "cell_type": "code",
   "execution_count": null,
   "metadata": {},
   "outputs": [],
   "source": [
    "def get_last_entry() -> tuple:\n",
    "    pd_df = pd.read_csv('ping_data.csv')\n",
    "    return tuple(pd_df.iloc[-1].values)\n"
   ]
  },
  {
   "cell_type": "code",
   "execution_count": null,
   "metadata": {},
   "outputs": [],
   "source": [
    "last_blockNumber, _ = get_last_entry()"
   ]
  },
  {
   "cell_type": "code",
   "execution_count": null,
   "metadata": {},
   "outputs": [],
   "source": [
    "last_blockNumber"
   ]
  },
  {
   "cell_type": "code",
   "execution_count": null,
   "metadata": {},
   "outputs": [],
   "source": [
    "from listner import pingpong_contract, web3\n",
    "from hexbytes import HexBytes "
   ]
  },
  {
   "cell_type": "code",
   "execution_count": null,
   "metadata": {},
   "outputs": [],
   "source": [
    "ping_hash = HexBytes('0x82ea0cc9a3311c74c0b7d8ea896474eb4444d43edd6157d48708f2d62100b2ef')"
   ]
  },
  {
   "cell_type": "code",
   "execution_count": null,
   "metadata": {},
   "outputs": [],
   "source": [
    "# pingpong_contract.functions.pong('0x82ea0cc9a3311c74c0b7d8ea896474eb4444d43edd6157d48708f2d62100b2ef').build_transaction({'nonce': 10})\n",
    "\n",
    "# tx = greeter.functions.greet(\"newGreet\").buildTransaction({'nonce': web3.eth.getTransactionCount('your accountaddress')}}\n",
    "\n",
    "# tx = pingpong_contract.functions.pong('0x82ea0cc9a3311c74c0b7d8ea896474eb4444d43edd6157d48708f2d62100b2ef').transact({'nonce': 10})\n"
   ]
  },
  {
   "cell_type": "code",
   "execution_count": null,
   "metadata": {},
   "outputs": [],
   "source": [
    "# web3.eth.estimateGas(signed_tx)"
   ]
  },
  {
   "cell_type": "code",
   "execution_count": null,
   "metadata": {},
   "outputs": [],
   "source": [
    "'''\n",
    "num = ...\n",
    "# build transaction\n",
    "build_tx = contract.functions.set(num).buildTransaction({\n",
    "    'from': ...,\n",
    "    'nonce': ...,\n",
    "    'gas': ...,\n",
    "    'gasPrice': ...\n",
    "})\n",
    "# sign transaction\n",
    "sign_tx = w3.eth.account.signTransaction(build_tx, private_key)\n",
    "# send the transaction\n",
    "tx_hash = w3.eth.sendRawTransaction(sign_tx.rawTransaction)\n",
    "\n",
    "'''\n",
    "\n"
   ]
  },
  {
   "cell_type": "code",
   "execution_count": null,
   "metadata": {},
   "outputs": [],
   "source": [
    "ping_hash = '0x82ea0cc9a3311c74c0b7d8ea896474eb4444d43edd6157d48708f2d62100b2ef'\n",
    "\n",
    "build_tx = pingpong_contract.functions.pong(ping_hash).buildTransaction({\n",
    "        'from':'00000',\n",
    "        'nonce':0,\n",
    "        'gas': 100000,\n",
    "        'gasPrice':web3.eth.gas_price\n",
    "    })\n",
    "\n",
    "print(build_tx)"
   ]
  },
  {
   "cell_type": "code",
   "execution_count": null,
   "metadata": {},
   "outputs": [],
   "source": [
    "# Use this to estimate gas\n",
    "# web3.eth.estimate_gas(build_tx)"
   ]
  },
  {
   "cell_type": "code",
   "execution_count": null,
   "metadata": {},
   "outputs": [],
   "source": [
    "web3.eth.gas_price"
   ]
  },
  {
   "cell_type": "code",
   "execution_count": null,
   "metadata": {},
   "outputs": [],
   "source": [
    "import time\n",
    "\n",
    "LOCKED = False\n",
    "\n",
    "def wait_for_lock(func):\n",
    "    ''' Decorator function to ensure that Ping & Pong \n",
    "        don't write to CSV file at the same time'''\n",
    "    def wrapper(*args, **kwargs):\n",
    "        global LOCKED\n",
    "        if not LOCKED:\n",
    "            LOCKED = True\n",
    "            val = func(*args, **kwargs)\n",
    "            LOCKED = False\n",
    "            return val\n",
    "        else:\n",
    "            for i in range(10):\n",
    "                if not LOCKED:\n",
    "                    LOCKED = True\n",
    "                    val = func(*args, **kwargs)\n",
    "                    LOCKED = False\n",
    "                    return val\n",
    "                else:\n",
    "                    time.sleep(2)\n",
    "    return wrapper \n",
    "\n",
    "@wait_for_lock\n",
    "def ping(sleep:int):\n",
    "    time.sleep(sleep)\n",
    "    print(\"Ping\")\n",
    "\n",
    "@wait_for_lock\n",
    "def pong(sleep:int):\n",
    "    time.sleep(sleep)\n",
    "    print(\"Pong\")\n",
    "\n",
    "\n"
   ]
  },
  {
   "cell_type": "code",
   "execution_count": null,
   "metadata": {},
   "outputs": [],
   "source": [
    "pigd = (32592420, '0x82ea0cc9a3311c74c0b7d8ea896474eb4444d43edd6157d48708f2d62100b2fg')\n",
    "\n",
    "pdff = pd.DataFrame(columns = ['blockNumber', 'transactionHash', 'PongStatus'])"
   ]
  },
  {
   "cell_type": "code",
   "execution_count": null,
   "metadata": {},
   "outputs": [],
   "source": [
    "len(pdff)"
   ]
  },
  {
   "cell_type": "code",
   "execution_count": null,
   "metadata": {},
   "outputs": [],
   "source": [
    "inp = list(pigd)\n",
    "inp.append(0)\n",
    "inp\n"
   ]
  },
  {
   "cell_type": "code",
   "execution_count": null,
   "metadata": {},
   "outputs": [],
   "source": [
    "pdff.loc[len(pdff)] = inp\n",
    "pdff\n",
    "\n",
    "# pdff.append({col:i for (col, i) in zip(pdff.columns, inp)}, ignore_index=True)"
   ]
  },
  {
   "cell_type": "code",
   "execution_count": null,
   "metadata": {},
   "outputs": [],
   "source": [
    "pdff"
   ]
  },
  {
   "cell_type": "code",
   "execution_count": null,
   "metadata": {},
   "outputs": [],
   "source": [
    "another = [32623896, '0x7b8a0f3eb531143840662fe059356486ad5d9c1c2838aec40ad58395a90e5269', 0]"
   ]
  },
  {
   "cell_type": "code",
   "execution_count": null,
   "metadata": {},
   "outputs": [],
   "source": [
    "pdff.loc[len(pdff)] = another\n",
    "pdff"
   ]
  },
  {
   "cell_type": "code",
   "execution_count": null,
   "metadata": {},
   "outputs": [],
   "source": [
    "# def get_first_unPonged():\n",
    "# Read csv\n",
    "# Returns the first index of unPonged\n",
    "index = pdff.loc[pdff['PongStatus'] == 0].head(1).index[0]\n",
    "index"
   ]
  },
  {
   "cell_type": "code",
   "execution_count": null,
   "metadata": {},
   "outputs": [],
   "source": [
    "pdff.iloc[index]['transactionHash']\n",
    "# Do something -> send a Pong"
   ]
  },
  {
   "cell_type": "code",
   "execution_count": null,
   "metadata": {},
   "outputs": [],
   "source": [
    "pdff.loc[index,'PongStatus'] = 1"
   ]
  },
  {
   "cell_type": "code",
   "execution_count": null,
   "metadata": {},
   "outputs": [],
   "source": [
    "pdff"
   ]
  },
  {
   "cell_type": "code",
   "execution_count": null,
   "metadata": {},
   "outputs": [],
   "source": [
    "type(index)"
   ]
  },
  {
   "cell_type": "code",
   "execution_count": null,
   "metadata": {},
   "outputs": [],
   "source": [
    "# from pong_transact import tx_hash\n",
    "import datetime"
   ]
  },
  {
   "cell_type": "code",
   "execution_count": null,
   "metadata": {},
   "outputs": [],
   "source": [
    "\n",
    "counter_start = None\n",
    "max_time = 5\n",
    "\n",
    "def test():\n",
    "    counter_start = datetime.datetime.now()\n",
    "    time.sleep(10)\n",
    "    current_time = datetime.datetime.now()\n",
    "    if current_time > counter_start + datetime.timedelta(seconds=max_time):\n",
    "        print(\"Taking too long\")\n",
    "    \n",
    "\n",
    "\n",
    "\n",
    "\n"
   ]
  },
  {
   "cell_type": "code",
   "execution_count": null,
   "metadata": {},
   "outputs": [],
   "source": [
    "from attributedict.collections import AttributeDict"
   ]
  },
  {
   "cell_type": "code",
   "execution_count": null,
   "metadata": {},
   "outputs": [],
   "source": [
    "tx_receipt = AttributeDict({\n",
    "    'blockHash': '0x4e3a3754410177e6937ef1f84bba68ea139e8d1a2258c5f85db9f1cd715a1bdd',\n",
    "    'blockNumber': 46147,\n",
    "    'contractAddress': None,\n",
    "    'cumulativeGasUsed': 21000,\n",
    "    'from': '0xA1E4380A3B1f749673E270229993eE55F35663b4',\n",
    "    'gasUsed': 21000,\n",
    "    'logs': [],\n",
    "    'logsBloom': '0x000000000000000000000000000000000000000000000000...0000',\n",
    "    'status': 1,\n",
    "    'to': '0x5DF9B87991262F6BA471F09758CDE1c0FC1De734',\n",
    "    'transactionHash': '0x5c504ed432cb51138bcf09aa5e8a410dd4a1e204ef84bfed1be16dfba1b22060',\n",
    "    'transactionIndex': 0,\n",
    "})"
   ]
  },
  {
   "cell_type": "code",
   "execution_count": null,
   "metadata": {},
   "outputs": [],
   "source": [
    "ge = 2000"
   ]
  },
  {
   "cell_type": "code",
   "execution_count": null,
   "metadata": {},
   "outputs": [],
   "source": [
    "ge += ge*0.10"
   ]
  },
  {
   "cell_type": "code",
   "execution_count": null,
   "metadata": {},
   "outputs": [],
   "source": [
    "ge"
   ]
  },
  {
   "cell_type": "code",
   "execution_count": null,
   "metadata": {},
   "outputs": [],
   "source": [
    "test_df = pd.DataFrame(columns = ['blockNumber', 'transactionHash', 'PongStatus', 'Nonce'])\n",
    "test_df = test_df.astype({'blockNumber':np.int64, 'transactionHash':str, 'PongStatus':np.int32, 'Nonce':np.float64})\n",
    "test_df.info()"
   ]
  },
  {
   "cell_type": "code",
   "execution_count": null,
   "metadata": {},
   "outputs": [],
   "source": [
    "r1 = [32611135,'0xef4c15d33052279cc77216c12867163a66cd7dfe0a14', 1, 1]\n",
    "r2 = [32611135,'0xef4c15d33052279cc77216c12867163a66cd7dfe0a14', 0, np.nan]\n",
    "r3 = [32611135,'0xef4c15d33052279cc77216c12867163a66cd7dfe0a14', 0, np.nan]"
   ]
  },
  {
   "cell_type": "code",
   "execution_count": null,
   "metadata": {},
   "outputs": [],
   "source": [
    "test_df.loc[0] = r1\n",
    "test_df.loc[1] = r2\n",
    "test_df.loc[2] = r3"
   ]
  },
  {
   "cell_type": "code",
   "execution_count": null,
   "metadata": {},
   "outputs": [],
   "source": []
  },
  {
   "cell_type": "code",
   "execution_count": null,
   "metadata": {},
   "outputs": [],
   "source": [
    "ind, th = 1, '0xef4c15d33052279cc77216c12867163a66cd7dfe0a14'"
   ]
  },
  {
   "cell_type": "code",
   "execution_count": null,
   "metadata": {},
   "outputs": [],
   "source": [
    "def get_last_nonce(index):\n",
    "    ''' Returns the previous transaction's nonce '''\n",
    "    # Read CSV\n",
    "    return int(test_df.loc[index-1]['Nonce'])\n"
   ]
  },
  {
   "cell_type": "code",
   "execution_count": null,
   "metadata": {},
   "outputs": [],
   "source": [
    "get_last_nonce(ind)"
   ]
  },
  {
   "cell_type": "code",
   "execution_count": null,
   "metadata": {},
   "outputs": [],
   "source": [
    "txh = '\\x98%\\r+\\xebE\\xb5\\x15\\xa9\\x93\\xc5w9)\\x06$m\\x1e\\x7f\\xda9[\\xa7\\xe3H\\x80X\\xb5\\xb9\\x06\\x82\\x8e'"
   ]
  },
  {
   "cell_type": "code",
   "execution_count": null,
   "metadata": {},
   "outputs": [],
   "source": [
    "from hexbytes import HexBytes"
   ]
  },
  {
   "cell_type": "code",
   "execution_count": null,
   "metadata": {},
   "outputs": [],
   "source": [
    "b'\\x98%\\r+\\xebE\\xb5\\x15\\xa9\\x93\\xc5w9)\\x06$m\\x1e\\x7f\\xda9[\\xa7\\xe3H\\x80X\\xb5\\xb9\\x06\\x82\\x8e'.hex()"
   ]
  },
  {
   "cell_type": "code",
   "execution_count": null,
   "metadata": {},
   "outputs": [],
   "source": [
    "pd_df = pd.read_csv('ping_data.csv')"
   ]
  },
  {
   "cell_type": "code",
   "execution_count": null,
   "metadata": {},
   "outputs": [],
   "source": [
    "mask = pd_df.loc[pd_df['PongStatus'] == '0']"
   ]
  },
  {
   "cell_type": "code",
   "execution_count": null,
   "metadata": {},
   "outputs": [],
   "source": [
    "pd_df.loc[pd_df['PongStatus'] == '0'].head(1).index[0]"
   ]
  },
  {
   "cell_type": "code",
   "execution_count": null,
   "metadata": {},
   "outputs": [],
   "source": [
    "pd.read_csv(\"xxxx.csv\")"
   ]
  },
  {
   "cell_type": "code",
   "execution_count": null,
   "metadata": {},
   "outputs": [],
   "source": [
    "from data_script import get_first_unPonged, update_pongStatus, LOCKED"
   ]
  },
  {
   "cell_type": "code",
   "execution_count": null,
   "metadata": {},
   "outputs": [],
   "source": [
    "LOCKED"
   ]
  },
  {
   "cell_type": "code",
   "execution_count": null,
   "metadata": {},
   "outputs": [],
   "source": [
    "pd_df = pd.read_csv('ping_data.csv') "
   ]
  },
  {
   "cell_type": "code",
   "execution_count": null,
   "metadata": {},
   "outputs": [],
   "source": [
    "pd_df.iloc[0]"
   ]
  },
  {
   "cell_type": "code",
   "execution_count": null,
   "metadata": {},
   "outputs": [],
   "source": [
    "tx_h = '0x73f8df4869953ba129c969d5bab3187b9067da7e5ef22c876dbc1231ad5db85b'"
   ]
  },
  {
   "cell_type": "code",
   "execution_count": null,
   "metadata": {},
   "outputs": [],
   "source": [
    "update_pongStatus(index=0, tx_hash=tx_h)"
   ]
  },
  {
   "cell_type": "code",
   "execution_count": null,
   "metadata": {},
   "outputs": [],
   "source": [
    "# if not transactionHash in pd_df['transactionHash'].values:\n",
    "#         add_row = list(ping_data)\n",
    "#         add_row.append(\"No Pong\")\n",
    "#         pd_df.loc[len(pd_df)] = add_row\n",
    "#         pd_df.to_csv('ping_data.csv', index=False)\n",
    "#         print(f\"Adding {ping_data} to ping_data.csv\")\n"
   ]
  },
  {
   "cell_type": "code",
   "execution_count": null,
   "metadata": {},
   "outputs": [],
   "source": [
    "import csv"
   ]
  },
  {
   "cell_type": "code",
   "execution_count": null,
   "metadata": {},
   "outputs": [],
   "source": [
    "with open('ping_data.csv', 'r') as csv_file:\n",
    "    csv_dict = csv.DictReader(csv_file)\n",
    "    \n",
    "    _fieldnames = csv_dict.fieldnames\n",
    "\n",
    "    # for item in csv_dict:\n",
    "    #     print(item)\n",
    "    # print(tx_h in [item['transactionHash'] for item in csv_dict])\n",
    "\n",
    "    "
   ]
  },
  {
   "cell_type": "code",
   "execution_count": null,
   "metadata": {},
   "outputs": [],
   "source": [
    "def add_to_ping_csv(ping_data:tuple) -> None:\n",
    "    with open('ping_data.csv', 'r') as csv_file:\n",
    "        csv_dict = csv.DictReader(csv_file)\n",
    "        _, transactionHash = ping_data\n",
    "        if not transactionHash in [entry['transactionHash'] for entry in csv_dict]:\n",
    "            add_row = list(ping_data)\n",
    "            add_row.append(\"No Pong\")\n",
    "        with open('ping_data.csv', 'a') as csv_write:\n",
    "            csv_writer = csv.writer(csv_write)\n",
    "            csv_writer.writerow(add_row)"
   ]
  },
  {
   "cell_type": "code",
   "execution_count": null,
   "metadata": {},
   "outputs": [],
   "source": [
    "add_to_ping_csv(ping_data)"
   ]
  },
  {
   "cell_type": "code",
   "execution_count": null,
   "metadata": {},
   "outputs": [],
   "source": [
    "with open('ping_data.csv', 'r') as csv_file:\n",
    "    csv_dict = csv.DictReader(csv_file)\n",
    "    print(csv_dict.fieldnames)"
   ]
  },
  {
   "cell_type": "code",
   "execution_count": null,
   "metadata": {},
   "outputs": [],
   "source": []
  },
  {
   "cell_type": "code",
   "execution_count": null,
   "metadata": {},
   "outputs": [],
   "source": [
    "isinstance(1, int)"
   ]
  },
  {
   "cell_type": "code",
   "execution_count": null,
   "metadata": {},
   "outputs": [],
   "source": [
    "pd_df = pd.read_csv('ping_data.csv')"
   ]
  },
  {
   "cell_type": "code",
   "execution_count": null,
   "metadata": {},
   "outputs": [],
   "source": [
    "pd_df"
   ]
  },
  {
   "cell_type": "code",
   "execution_count": null,
   "metadata": {},
   "outputs": [],
   "source": [
    "pd_df.at[0,'PongStatus'] = tx_h"
   ]
  },
  {
   "cell_type": "code",
   "execution_count": null,
   "metadata": {},
   "outputs": [],
   "source": [
    "pd_df"
   ]
  },
  {
   "cell_type": "code",
   "execution_count": null,
   "metadata": {},
   "outputs": [],
   "source": [
    "pd_df.to_csv('ping_data.csv', index=False)"
   ]
  },
  {
   "cell_type": "code",
   "execution_count": null,
   "metadata": {},
   "outputs": [],
   "source": []
  }
 ],
 "metadata": {
  "kernelspec": {
   "display_name": "Python 3.10.4 ('env': venv)",
   "language": "python",
   "name": "python3"
  },
  "language_info": {
   "codemirror_mode": {
    "name": "ipython",
    "version": 3
   },
   "file_extension": ".py",
   "mimetype": "text/x-python",
   "name": "python",
   "nbconvert_exporter": "python",
   "pygments_lexer": "ipython3",
   "version": "3.10.4"
  },
  "orig_nbformat": 4,
  "vscode": {
   "interpreter": {
    "hash": "6ae4adf423d6352fde2764629b2bbc3d6512f2be38d33a1abd50adb153c80261"
   }
  }
 },
 "nbformat": 4,
 "nbformat_minor": 2
}
