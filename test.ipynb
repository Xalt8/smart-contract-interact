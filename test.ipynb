{
 "cells": [
  {
   "cell_type": "code",
   "execution_count": 26,
   "metadata": {},
   "outputs": [],
   "source": [
    "import pandas as pd\n",
    "import numpy as np\n",
    "from listner import get_blockNum_transHash, pingpong_contract, web3, pingpong_address"
   ]
  },
  {
   "cell_type": "code",
   "execution_count": 2,
   "metadata": {},
   "outputs": [],
   "source": [
    "START_BLOCK = 32885325"
   ]
  },
  {
   "cell_type": "code",
   "execution_count": 3,
   "metadata": {},
   "outputs": [],
   "source": [
    "# start_entries = get_blockNum_transHash(START_BLOCK)"
   ]
  },
  {
   "cell_type": "code",
   "execution_count": 10,
   "metadata": {},
   "outputs": [],
   "source": [
    "event_filter = web3.eth.filter({\"address\": pingpong_address, 'fromBlock':START_BLOCK, 'toBlock':'latest'})"
   ]
  },
  {
   "cell_type": "code",
   "execution_count": 12,
   "metadata": {},
   "outputs": [],
   "source": [
    "entries = event_filter.get_all_entries()"
   ]
  },
  {
   "cell_type": "code",
   "execution_count": 13,
   "metadata": {},
   "outputs": [
    {
     "name": "stdout",
     "output_type": "stream",
     "text": [
      "AttributeDict({'address': '0x7D3a625977bFD7445466439E60C495bdc2855367', 'blockHash': HexBytes('0x885bdcd2a0bd434568cf1c72ec60fa3a85b7d60d5a1d41fa387d8270c8232566'), 'blockNumber': 32885325, 'data': '0x', 'logIndex': 0, 'removed': False, 'topics': [HexBytes('0xca6e822df923f741dfe968d15d80a18abd25bd1e748bcb9ad81fea5bbb7386af')], 'transactionHash': HexBytes('0x78582c490dd4dd75c92abc7d0999d88fcdf5ece78ec0b36a99a5c80e8cb30672'), 'transactionIndex': 0, 'transactionLogIndex': '0x0', 'type': 'mined'})\n",
      "AttributeDict({'address': '0x7D3a625977bFD7445466439E60C495bdc2855367', 'blockHash': HexBytes('0x25f2ce1269e7cd90931ab13b2cae08c267d58380dc0767bc3e1b2efb1ff21a7c'), 'blockNumber': 32885433, 'data': '0x', 'logIndex': 7, 'removed': False, 'topics': [HexBytes('0xca6e822df923f741dfe968d15d80a18abd25bd1e748bcb9ad81fea5bbb7386af')], 'transactionHash': HexBytes('0x95cdc60be3ca91c4ee19f7228653ad7a43b26c1feba33d0c4c54409dbfaa3dba'), 'transactionIndex': 4, 'transactionLogIndex': '0x0', 'type': 'mined'})\n",
      "AttributeDict({'address': '0x7D3a625977bFD7445466439E60C495bdc2855367', 'blockHash': HexBytes('0x26a8703e8ed868a8e6d9a8c995494942c00106cbaee0a9d78be4a8e788083aa7'), 'blockNumber': 32885463, 'data': '0x', 'logIndex': 0, 'removed': False, 'topics': [HexBytes('0xca6e822df923f741dfe968d15d80a18abd25bd1e748bcb9ad81fea5bbb7386af')], 'transactionHash': HexBytes('0x5b79c609bd608b27dcbca43c22ee1b7fc9e4f690096bb0838c2a1423e2c797c6'), 'transactionIndex': 0, 'transactionLogIndex': '0x0', 'type': 'mined'})\n",
      "AttributeDict({'address': '0x7D3a625977bFD7445466439E60C495bdc2855367', 'blockHash': HexBytes('0xffec2a9f915281193ea1751782a016f3c95a0556a1bb76f5ccb92ecc0b905afe'), 'blockNumber': 32885551, 'data': '0x', 'logIndex': 0, 'removed': False, 'topics': [HexBytes('0xca6e822df923f741dfe968d15d80a18abd25bd1e748bcb9ad81fea5bbb7386af')], 'transactionHash': HexBytes('0xab7fc8c8ea69dd7ce22957c1d88281c8de32c6eb604c5c4ee8881dc5ee552eae'), 'transactionIndex': 2, 'transactionLogIndex': '0x0', 'type': 'mined'})\n",
      "AttributeDict({'address': '0x7D3a625977bFD7445466439E60C495bdc2855367', 'blockHash': HexBytes('0xed7a1b952bd7e4b0a460e2ca3051280c7a1a35f8fc9629f1581c1521aeb2f52a'), 'blockNumber': 32885575, 'data': '0x', 'logIndex': 0, 'removed': False, 'topics': [HexBytes('0xca6e822df923f741dfe968d15d80a18abd25bd1e748bcb9ad81fea5bbb7386af')], 'transactionHash': HexBytes('0xc1e6880bda2b785f277f1fc72e8aec9007ceb68467d074c6eeba77e43c787dd1'), 'transactionIndex': 0, 'transactionLogIndex': '0x0', 'type': 'mined'})\n",
      "AttributeDict({'address': '0x7D3a625977bFD7445466439E60C495bdc2855367', 'blockHash': HexBytes('0x88f8e5778f4bf8909fb2379d430689ec06ae04d6b11db0bcb20a4b9bca6d83f9'), 'blockNumber': 32885630, 'data': '0x78582c490dd4dd75c92abc7d0999d88fcdf5ece78ec0b36a99a5c80e8cb30672', 'logIndex': 0, 'removed': False, 'topics': [HexBytes('0x67050610046771547cf1d6e467b904ccfc523370eebc895dad1d9a73349b9804')], 'transactionHash': HexBytes('0x31348e6a87e9f7b758b11bff0813366a905663a43942d06bc218c1302fb12742'), 'transactionIndex': 0, 'transactionLogIndex': '0x0', 'type': 'mined'})\n",
      "AttributeDict({'address': '0x7D3a625977bFD7445466439E60C495bdc2855367', 'blockHash': HexBytes('0x89ac37eb34881940261d9323842fe197a182c56b410bd5b0b1789abe59c4d1cc'), 'blockNumber': 32885637, 'data': '0x95cdc60be3ca91c4ee19f7228653ad7a43b26c1feba33d0c4c54409dbfaa3dba', 'logIndex': 1, 'removed': False, 'topics': [HexBytes('0x67050610046771547cf1d6e467b904ccfc523370eebc895dad1d9a73349b9804')], 'transactionHash': HexBytes('0x6f3ccc2027573d177c35c72b4a1311fb4e609afe69725a10a907793ef5711f66'), 'transactionIndex': 2, 'transactionLogIndex': '0x0', 'type': 'mined'})\n",
      "AttributeDict({'address': '0x7D3a625977bFD7445466439E60C495bdc2855367', 'blockHash': HexBytes('0x2a5ae346f5ac02348d47151a8b4c0653c7c882a00496918d80d9b93c61a827be'), 'blockNumber': 32885666, 'data': '0x5b79c609bd608b27dcbca43c22ee1b7fc9e4f690096bb0838c2a1423e2c797c6', 'logIndex': 0, 'removed': False, 'topics': [HexBytes('0x67050610046771547cf1d6e467b904ccfc523370eebc895dad1d9a73349b9804')], 'transactionHash': HexBytes('0x04965255df134d61dda9ee94b3994bf8583808607cdcfae2bbf1cdbc90293e54'), 'transactionIndex': 0, 'transactionLogIndex': '0x0', 'type': 'mined'})\n",
      "AttributeDict({'address': '0x7D3a625977bFD7445466439E60C495bdc2855367', 'blockHash': HexBytes('0xa80347729c25c1e5a95c16e524edd2ad13ca22869f1f75f0a74f94ce2a0f7375'), 'blockNumber': 32885668, 'data': '0xab7fc8c8ea69dd7ce22957c1d88281c8de32c6eb604c5c4ee8881dc5ee552eae', 'logIndex': 0, 'removed': False, 'topics': [HexBytes('0x67050610046771547cf1d6e467b904ccfc523370eebc895dad1d9a73349b9804')], 'transactionHash': HexBytes('0xe34f6de927acd15d3260f58fe9f613c022e8db663232759bbf51bdc0f51a8d2e'), 'transactionIndex': 0, 'transactionLogIndex': '0x0', 'type': 'mined'})\n",
      "AttributeDict({'address': '0x7D3a625977bFD7445466439E60C495bdc2855367', 'blockHash': HexBytes('0xf05c8921ab92182406e0f26745662158bbb5e68d8dd33dac4b168822cc1a7cc5'), 'blockNumber': 32885671, 'data': '0xc1e6880bda2b785f277f1fc72e8aec9007ceb68467d074c6eeba77e43c787dd1', 'logIndex': 9, 'removed': False, 'topics': [HexBytes('0x67050610046771547cf1d6e467b904ccfc523370eebc895dad1d9a73349b9804')], 'transactionHash': HexBytes('0xeabe7542c53b12ee21a2f86b0f0543bd66800cddfa2274c4f9784ac800c2b323'), 'transactionIndex': 2, 'transactionLogIndex': '0x0', 'type': 'mined'})\n",
      "AttributeDict({'address': '0x7D3a625977bFD7445466439E60C495bdc2855367', 'blockHash': HexBytes('0x7b37e50d8d551fb3ebdea45da4536bfd4b056618917fb41648a0c3290ecdf82c'), 'blockNumber': 32885714, 'data': '0x', 'logIndex': 0, 'removed': False, 'topics': [HexBytes('0xca6e822df923f741dfe968d15d80a18abd25bd1e748bcb9ad81fea5bbb7386af')], 'transactionHash': HexBytes('0xf83689eed2b19fd3959d1d193cfdb4fb7074445d95115dcf3e509a51f28ace14'), 'transactionIndex': 0, 'transactionLogIndex': '0x0', 'type': 'mined'})\n",
      "AttributeDict({'address': '0x7D3a625977bFD7445466439E60C495bdc2855367', 'blockHash': HexBytes('0x2d504f5a40744e410cb67b3370045265e2b635c5fb4990e4ce287d8db1170bfd'), 'blockNumber': 32885727, 'data': '0x', 'logIndex': 0, 'removed': False, 'topics': [HexBytes('0xca6e822df923f741dfe968d15d80a18abd25bd1e748bcb9ad81fea5bbb7386af')], 'transactionHash': HexBytes('0xd44a70d7381d08f75736e7f187f7f59cd596e1f088f7418fd8bd55eb1b7bacc4'), 'transactionIndex': 0, 'transactionLogIndex': '0x0', 'type': 'mined'})\n",
      "AttributeDict({'address': '0x7D3a625977bFD7445466439E60C495bdc2855367', 'blockHash': HexBytes('0xaa19029e723c321ed2b226c17cbdcf4342f5c1b46b26841cfc2091f6ba1f9af1'), 'blockNumber': 32885736, 'data': '0x', 'logIndex': 0, 'removed': False, 'topics': [HexBytes('0xca6e822df923f741dfe968d15d80a18abd25bd1e748bcb9ad81fea5bbb7386af')], 'transactionHash': HexBytes('0x23044755ef0924058979861e62a3c3abf2a1cd86c6e8901a58f007eef90d4294'), 'transactionIndex': 0, 'transactionLogIndex': '0x0', 'type': 'mined'})\n",
      "AttributeDict({'address': '0x7D3a625977bFD7445466439E60C495bdc2855367', 'blockHash': HexBytes('0xd28ade7f8cccbfe3b8b393086dc8a1996becb117942dcd32350a099d8a2b4128'), 'blockNumber': 32885819, 'data': '0x', 'logIndex': 0, 'removed': False, 'topics': [HexBytes('0xca6e822df923f741dfe968d15d80a18abd25bd1e748bcb9ad81fea5bbb7386af')], 'transactionHash': HexBytes('0xc62887ad4d75b881f50ff488e47a24ffae89e40ca2f52dd8519c5d386d24d524'), 'transactionIndex': 0, 'transactionLogIndex': '0x0', 'type': 'mined'})\n"
     ]
    }
   ],
   "source": [
    "for entry in entries:\n",
    "    print(entry)"
   ]
  },
  {
   "cell_type": "code",
   "execution_count": 19,
   "metadata": {},
   "outputs": [],
   "source": [
    "ev_flit = pingpong_contract.events.Ping.createFilter(fromBlock=START_BLOCK, toBlock='latest')"
   ]
  },
  {
   "cell_type": "code",
   "execution_count": 24,
   "metadata": {},
   "outputs": [
    {
     "name": "stdout",
     "output_type": "stream",
     "text": [
      "0x78582c490dd4dd75c92abc7d0999d88fcdf5ece78ec0b36a99a5c80e8cb30672\n",
      "0x95cdc60be3ca91c4ee19f7228653ad7a43b26c1feba33d0c4c54409dbfaa3dba\n",
      "0x5b79c609bd608b27dcbca43c22ee1b7fc9e4f690096bb0838c2a1423e2c797c6\n",
      "0xab7fc8c8ea69dd7ce22957c1d88281c8de32c6eb604c5c4ee8881dc5ee552eae\n",
      "0xc1e6880bda2b785f277f1fc72e8aec9007ceb68467d074c6eeba77e43c787dd1\n",
      "0xf83689eed2b19fd3959d1d193cfdb4fb7074445d95115dcf3e509a51f28ace14\n",
      "0xd44a70d7381d08f75736e7f187f7f59cd596e1f088f7418fd8bd55eb1b7bacc4\n",
      "0x23044755ef0924058979861e62a3c3abf2a1cd86c6e8901a58f007eef90d4294\n",
      "0xc62887ad4d75b881f50ff488e47a24ffae89e40ca2f52dd8519c5d386d24d524\n",
      "0x158dda32fac4b551f8f581c65589d43f20703a99f5f14ff65a8d571c83cba07e\n",
      "0x934ed974d3e5ada3cea12324fcd9e92cea64469077f006c9281e638cf0099f04\n",
      "0xb41205dad5606550aaa4ed9dea4eadc4ad4ddae2ed23937c8edc9087fb51efd8\n",
      "0x9bfbdab3a241843488bb9b14ba9fe592db6bb51accb8518756873588a6c4991a\n",
      "0x109839f7763c291babede54785888aa46ba603ca81553b64f5d3481bb9324ac0\n",
      "0x384cb4c840685a3d89a1eef1d2cc4f35bf313d8c95f8f41c8c2c47d7d7c37b57\n"
     ]
    }
   ],
   "source": [
    "for event in ev_flit.get_all_entries():\n",
    "    print(event['transactionHash'].hex())"
   ]
  },
  {
   "cell_type": "code",
   "execution_count": 27,
   "metadata": {},
   "outputs": [],
   "source": [
    "lst_tx = web3.eth.get_transaction('0xa9d9bd9493e03452405865fb687d60800f23ae755fe22534aa8db85906dc63e0')"
   ]
  },
  {
   "cell_type": "code",
   "execution_count": 30,
   "metadata": {},
   "outputs": [
    {
     "data": {
      "text/plain": [
       "32"
      ]
     },
     "execution_count": 30,
     "metadata": {},
     "output_type": "execute_result"
    }
   ],
   "source": [
    "lst_tx.nonce"
   ]
  },
  {
   "cell_type": "code",
   "execution_count": 31,
   "metadata": {},
   "outputs": [],
   "source": [
    "import csv"
   ]
  },
  {
   "cell_type": "code",
   "execution_count": 43,
   "metadata": {},
   "outputs": [
    {
     "name": "stdout",
     "output_type": "stream",
     "text": [
      "['0xef6012c8f3716845a59388ff84467d729a7bebd8e45f0187871559be9209d189', '0x61384e69a13211e9faab54ed76c3d8ddaf68a4b3dfc25f6562d71ab4e46d573c', '0xe6a3bde39193340c25afe676d655cecc7880f6302ca754f60beaaf47ec580958', '0x2f31828337a01584df954014c747baebb7551488435e2d68d876372efda49221', '0xe1aaf34ead998dcaca40cd7249a6a210f5794c6b8fdeaa2e22321fec2f5542d0', '0xdd6f2d00ad774d343b01f65c5cc175f6b29eb0b9df5a7acd53f83b8391421894', '0x913f0ef94d9dd5151be2a20658dfc91507764d7588185f33c614c7fcaf5b027a', '0x6d9f944da0b8d3e99bca2ba797201af7f28c2f512fc8145c0e56238b3ee8f106', '0x0907353ca54b0f82f26df6922127cf9b377b7f896f6271b8b82d4a13ae94bfec', '0xb21554bf26c114b502a8f77d3981742faf88307a005642c0367ee374fdb22042', '0xf74387db00f5a42d8dc1aa8e362d6124a144af6992b76601c64aebbed2810730', '0x2b977f21a4393dde48a8fba1fe78ce8117e87bbbc2632fe6ba258075efc4390a', '0x77d36bbf66a9a2f72f62fdeb25aa815743be3453745ce79fa1a017681f3db602', '0xeba744f26f046216d9874de3a74a413b16cfe1cc785f42baae78145dc662f0f1', '0x2ddaeec92b9964036d2d2e785fbeae6a7e4dd9ed0d77a4bec2ae59a58cc6d24f', '0x1ec82a2508cc41b807fe58489efc946a99cb552aaa941a6db2fe05d606a4544b', '0x56d567ef1fa25d490069a8d81212dfc7fefbe408985456598c02e1cbe0187b00', '0x9b78536899658e9ce473643c7c3ff6078bf49ae15d93ff7d7cd99d985969e84c', '0xdfbf6b22e3343700d1f4fcf19edc013d2c95cb56838519c06cbd277bd3a86481', '0xf26509b5c1e8ebd56e3509b96199f181b880a0cd8e6c6d70f97dd5532d39f690', '0x8479abf820c431c5541f303193cd9f1fe9826f26c9380abf8c5271d4f0d31946', '0xd0f3c882a38ab7ee9d3295fbb0bf49d7f0137faf8c42ae67d39153181bd5a54c', '0x5e037a76ff52f61bdadb489ebb0adf8ef7e3dfb7cb1687e36dfcbbbefc5d2b84', '0x8b7307d22786478e4ebcd8ba5c6ef8042fa20c818d42ad7eeb3e0c18e604795d']\n"
     ]
    }
   ],
   "source": [
    "with open('ping_data.csv', 'r') as csv_file:\n",
    "    csv_reader = csv.DictReader(csv_file)\n",
    "    print([line['transactionHash'] for line in csv_reader])"
   ]
  },
  {
   "cell_type": "code",
   "execution_count": 44,
   "metadata": {},
   "outputs": [
    {
     "data": {
      "text/plain": [
       "['blockNumber', 'transactionHash', 'PongStatus']"
      ]
     },
     "execution_count": 44,
     "metadata": {},
     "output_type": "execute_result"
    }
   ],
   "source": [
    "csv_reader.fieldnames"
   ]
  },
  {
   "cell_type": "code",
   "execution_count": 48,
   "metadata": {},
   "outputs": [],
   "source": [
    "pid = (987654321, '0x8b7307d22786478e4ebcd8ba5c6ef8042fa20c818d42ad7eeb3e0c18e604795k')\n",
    "heads = ['blkNo', 'TxHash']"
   ]
  },
  {
   "cell_type": "code",
   "execution_count": 49,
   "metadata": {},
   "outputs": [],
   "source": [
    "pid_dict = dict(zip(heads, pid))"
   ]
  },
  {
   "cell_type": "code",
   "execution_count": 50,
   "metadata": {},
   "outputs": [
    {
     "data": {
      "text/plain": [
       "{'blkNo': 987654321,\n",
       " 'TxHash': '0x8b7307d22786478e4ebcd8ba5c6ef8042fa20c818d42ad7eeb3e0c18e604795k'}"
      ]
     },
     "execution_count": 50,
     "metadata": {},
     "output_type": "execute_result"
    }
   ],
   "source": [
    "pid_dict"
   ]
  },
  {
   "cell_type": "code",
   "execution_count": 51,
   "metadata": {},
   "outputs": [
    {
     "name": "stdout",
     "output_type": "stream",
     "text": [
      "No\n"
     ]
    }
   ],
   "source": [
    "l = []\n",
    "\n",
    "print(\"Yes\") if l else print(\"No\")"
   ]
  },
  {
   "cell_type": "code",
   "execution_count": 55,
   "metadata": {},
   "outputs": [],
   "source": [
    "last_tx = web3.eth.get_transaction('0x3085ab793116084665631e25ca564e174292bfb9a27f1ae3820d85ddc8a89f93')"
   ]
  },
  {
   "cell_type": "code",
   "execution_count": 56,
   "metadata": {},
   "outputs": [
    {
     "data": {
      "text/plain": [
       "AttributeDict({'blockHash': HexBytes('0xd156d432163e7ec97c32f84482abe2f3a2743a5b556bd87e34f9d8bc38e68b6d'),\n",
       " 'blockNumber': 32924462,\n",
       " 'chainId': '0x2a',\n",
       " 'condition': None,\n",
       " 'creates': None,\n",
       " 'from': '0x2c6970cD99cC15CB1DB84AbD20F45c108670Cfae',\n",
       " 'gas': 23200,\n",
       " 'gasPrice': 2500000007,\n",
       " 'hash': HexBytes('0x3085ab793116084665631e25ca564e174292bfb9a27f1ae3820d85ddc8a89f93'),\n",
       " 'input': '0x05ba79a2015a392415383997569b081f7309cf0ab36ef820a5bcc5f049c77865740cc8bb',\n",
       " 'nonce': 92,\n",
       " 'publicKey': HexBytes('0x59d32509511be027f755da141cd4a326c01fab43f191ac6caa3d6200f01b9013704dea0df3c4b3977a39a33f3a2787ee6961657819ad0af5febd729de53f73d1'),\n",
       " 'r': HexBytes('0x3b922d754719c30825b5985fb8158cc400b132e4a55da811c55b9c96d8529e58'),\n",
       " 'raw': HexBytes('0xf8875c849502f907825aa0947d3a625977bfd7445466439e60c495bdc285536780a405ba79a2015a392415383997569b081f7309cf0ab36ef820a5bcc5f049c77865740cc8bb78a03b922d754719c30825b5985fb8158cc400b132e4a55da811c55b9c96d8529e58a076482c00de23ea29ea341cfa40f92b92ff1b267e9b3000179e40c7a1cdd11a09'),\n",
       " 's': HexBytes('0x76482c00de23ea29ea341cfa40f92b92ff1b267e9b3000179e40c7a1cdd11a09'),\n",
       " 'standardV': 1,\n",
       " 'to': '0x7D3a625977bFD7445466439E60C495bdc2855367',\n",
       " 'transactionIndex': 3,\n",
       " 'v': 120,\n",
       " 'value': 0})"
      ]
     },
     "execution_count": 56,
     "metadata": {},
     "output_type": "execute_result"
    }
   ],
   "source": [
    "last_tx"
   ]
  },
  {
   "cell_type": "code",
   "execution_count": 60,
   "metadata": {},
   "outputs": [],
   "source": [
    "import asyncio"
   ]
  },
  {
   "cell_type": "code",
   "execution_count": 90,
   "metadata": {},
   "outputs": [],
   "source": [
    "def test1():\n",
    "    print(\"Test1\")\n",
    "\n",
    "def test2():\n",
    "    print(\"Test2\")\n",
    "\n",
    "def test3():\n",
    "    print(\"Test3\")\n",
    "\n",
    "def main():\n",
    "    test1()\n",
    "    test2()\n",
    "    test3()\n"
   ]
  },
  {
   "cell_type": "code",
   "execution_count": 116,
   "metadata": {},
   "outputs": [
    {
     "data": {
      "text/plain": [
       "True"
      ]
     },
     "execution_count": 116,
     "metadata": {},
     "output_type": "execute_result"
    }
   ],
   "source": [
    "locked = False\n",
    "\n",
    "not locked\n",
    "# while not locked:\n",
    "#     locked = True\n",
    "#     for i in range(5):\n",
    "#         print(i)\n",
    "#         print('test1')\n",
    "#         print('test2')\n",
    "#         print('test3')\n",
    "#         locked = True"
   ]
  },
  {
   "cell_type": "code",
   "execution_count": 76,
   "metadata": {},
   "outputs": [
    {
     "name": "stdout",
     "output_type": "stream",
     "text": [
      "waiting for it ...\n",
      "... got it!\n"
     ]
    }
   ],
   "source": []
  },
  {
   "cell_type": "code",
   "execution_count": 9,
   "metadata": {},
   "outputs": [
    {
     "data": {
      "text/plain": [
       "['one', 'two', 'three', 'Four']"
      ]
     },
     "execution_count": 9,
     "metadata": {},
     "output_type": "execute_result"
    }
   ],
   "source": [
    "tl = (\"one\", \"two\")\n",
    "\n",
    "tl2 = list(tl) + [\"three\", 'Four']\n",
    "tl2"
   ]
  },
  {
   "cell_type": "code",
   "execution_count": 10,
   "metadata": {},
   "outputs": [
    {
     "data": {
      "text/plain": [
       "'one'"
      ]
     },
     "execution_count": 10,
     "metadata": {},
     "output_type": "execute_result"
    }
   ],
   "source": [
    "tl[0]"
   ]
  },
  {
   "cell_type": "code",
   "execution_count": 13,
   "metadata": {},
   "outputs": [],
   "source": [
    "tx = web3.eth.get_transaction('0x3085ab793116084665631e25ca564e174292bfb9a27f1ae3820d85ddc8a89f93')"
   ]
  },
  {
   "cell_type": "code",
   "execution_count": 14,
   "metadata": {},
   "outputs": [
    {
     "data": {
      "text/plain": [
       "AttributeDict({'blockHash': HexBytes('0xd156d432163e7ec97c32f84482abe2f3a2743a5b556bd87e34f9d8bc38e68b6d'),\n",
       " 'blockNumber': 32924462,\n",
       " 'chainId': '0x2a',\n",
       " 'condition': None,\n",
       " 'creates': None,\n",
       " 'from': '0x2c6970cD99cC15CB1DB84AbD20F45c108670Cfae',\n",
       " 'gas': 23200,\n",
       " 'gasPrice': 2500000007,\n",
       " 'hash': HexBytes('0x3085ab793116084665631e25ca564e174292bfb9a27f1ae3820d85ddc8a89f93'),\n",
       " 'input': '0x05ba79a2015a392415383997569b081f7309cf0ab36ef820a5bcc5f049c77865740cc8bb',\n",
       " 'nonce': 92,\n",
       " 'publicKey': HexBytes('0x59d32509511be027f755da141cd4a326c01fab43f191ac6caa3d6200f01b9013704dea0df3c4b3977a39a33f3a2787ee6961657819ad0af5febd729de53f73d1'),\n",
       " 'r': HexBytes('0x3b922d754719c30825b5985fb8158cc400b132e4a55da811c55b9c96d8529e58'),\n",
       " 'raw': HexBytes('0xf8875c849502f907825aa0947d3a625977bfd7445466439e60c495bdc285536780a405ba79a2015a392415383997569b081f7309cf0ab36ef820a5bcc5f049c77865740cc8bb78a03b922d754719c30825b5985fb8158cc400b132e4a55da811c55b9c96d8529e58a076482c00de23ea29ea341cfa40f92b92ff1b267e9b3000179e40c7a1cdd11a09'),\n",
       " 's': HexBytes('0x76482c00de23ea29ea341cfa40f92b92ff1b267e9b3000179e40c7a1cdd11a09'),\n",
       " 'standardV': 1,\n",
       " 'to': '0x7D3a625977bFD7445466439E60C495bdc2855367',\n",
       " 'transactionIndex': 3,\n",
       " 'v': 120,\n",
       " 'value': 0})"
      ]
     },
     "execution_count": 14,
     "metadata": {},
     "output_type": "execute_result"
    }
   ],
   "source": [
    "tx"
   ]
  },
  {
   "cell_type": "code",
   "execution_count": 87,
   "metadata": {},
   "outputs": [],
   "source": [
    "def get_last_ponged() -> list:\n",
    "    ''' Returns the last Ponged entry in the database '''\n",
    "\n",
    "    pd_df = pd.read_csv(r'ping_data - Copy.csv')\n",
    "    return list(pd_df[pd_df['PongStatus'].values != 'No Pong'].values[-1])\n",
    "    "
   ]
  },
  {
   "cell_type": "code",
   "execution_count": 96,
   "metadata": {},
   "outputs": [],
   "source": [
    "ps = get_last_ponged()"
   ]
  },
  {
   "cell_type": "code",
   "execution_count": 100,
   "metadata": {},
   "outputs": [
    {
     "data": {
      "text/plain": [
       "'29'"
      ]
     },
     "execution_count": 100,
     "metadata": {},
     "output_type": "execute_result"
    }
   ],
   "source": [
    "ps[-1]"
   ]
  },
  {
   "cell_type": "code",
   "execution_count": 105,
   "metadata": {},
   "outputs": [
    {
     "data": {
      "text/plain": [
       "[32922070,\n",
       " '0xeafff50e8f8a2b3a048a5e2405f54131d5ae7266274d06e258a0535733c1655d',\n",
       " '0xc59776aed778699584fa0d14ae0a280975a0ad00779f1031ae2a17b3690832b4',\n",
       " '29']"
      ]
     },
     "execution_count": 105,
     "metadata": {},
     "output_type": "execute_result"
    }
   ],
   "source": [
    "get_last_ponged()"
   ]
  },
  {
   "cell_type": "code",
   "execution_count": 94,
   "metadata": {},
   "outputs": [
    {
     "data": {
      "text/html": [
       "<div>\n",
       "<style scoped>\n",
       "    .dataframe tbody tr th:only-of-type {\n",
       "        vertical-align: middle;\n",
       "    }\n",
       "\n",
       "    .dataframe tbody tr th {\n",
       "        vertical-align: top;\n",
       "    }\n",
       "\n",
       "    .dataframe thead th {\n",
       "        text-align: right;\n",
       "    }\n",
       "</style>\n",
       "<table border=\"1\" class=\"dataframe\">\n",
       "  <thead>\n",
       "    <tr style=\"text-align: right;\">\n",
       "      <th></th>\n",
       "      <th>blockNumber</th>\n",
       "      <th>transactionHash</th>\n",
       "      <th>PongStatus</th>\n",
       "      <th>Nonce</th>\n",
       "    </tr>\n",
       "  </thead>\n",
       "  <tbody>\n",
       "    <tr>\n",
       "      <th>29</th>\n",
       "      <td>32922147</td>\n",
       "      <td>0x093de7af6ad2c2472ccd6174817fa9bc8a9d03ec5b44...</td>\n",
       "      <td>No Pong</td>\n",
       "      <td>None</td>\n",
       "    </tr>\n",
       "    <tr>\n",
       "      <th>30</th>\n",
       "      <td>32922217</td>\n",
       "      <td>0x22c1a403ef7948e8ed7f1f315fcbfffa9bf0f37aaa40...</td>\n",
       "      <td>No Pong</td>\n",
       "      <td>None</td>\n",
       "    </tr>\n",
       "    <tr>\n",
       "      <th>31</th>\n",
       "      <td>32922227</td>\n",
       "      <td>0x91632bb53f2c760663fb93e59d5c3b6a44dd099aa8b7...</td>\n",
       "      <td>No Pong</td>\n",
       "      <td>None</td>\n",
       "    </tr>\n",
       "    <tr>\n",
       "      <th>32</th>\n",
       "      <td>32922294</td>\n",
       "      <td>0x7e83f745c89db8bd28bd74307842402d50d82947a60e...</td>\n",
       "      <td>No Pong</td>\n",
       "      <td>None</td>\n",
       "    </tr>\n",
       "    <tr>\n",
       "      <th>33</th>\n",
       "      <td>32922427</td>\n",
       "      <td>0xb1403eeada738283cd1099fe2b2f6a3083f12d48abdf...</td>\n",
       "      <td>No Pong</td>\n",
       "      <td>None</td>\n",
       "    </tr>\n",
       "    <tr>\n",
       "      <th>34</th>\n",
       "      <td>32922467</td>\n",
       "      <td>0xa2cb8c6e5df71d90559e9b25bff3bc27bf4e2bde9f95...</td>\n",
       "      <td>No Pong</td>\n",
       "      <td>None</td>\n",
       "    </tr>\n",
       "    <tr>\n",
       "      <th>35</th>\n",
       "      <td>32922470</td>\n",
       "      <td>0x8064eeaf87d0d3350df2afb71198b94dcdbc4f1b1c93...</td>\n",
       "      <td>No Pong</td>\n",
       "      <td>None</td>\n",
       "    </tr>\n",
       "    <tr>\n",
       "      <th>36</th>\n",
       "      <td>32922561</td>\n",
       "      <td>0xcea9b724e718486a649515665f3a8345c127d52342a7...</td>\n",
       "      <td>No Pong</td>\n",
       "      <td>None</td>\n",
       "    </tr>\n",
       "    <tr>\n",
       "      <th>37</th>\n",
       "      <td>32922649</td>\n",
       "      <td>0x421d491c918f3633e0efa48852fce2a433c7b519c0ae...</td>\n",
       "      <td>No Pong</td>\n",
       "      <td>None</td>\n",
       "    </tr>\n",
       "    <tr>\n",
       "      <th>38</th>\n",
       "      <td>32922660</td>\n",
       "      <td>0xa0b8c4d1eb3b67641c22506242f5ac4f945a31340552...</td>\n",
       "      <td>No Pong</td>\n",
       "      <td>None</td>\n",
       "    </tr>\n",
       "    <tr>\n",
       "      <th>39</th>\n",
       "      <td>32922744</td>\n",
       "      <td>0x30567e8b82fab36af4adf9079e692bf346ebe32d5098...</td>\n",
       "      <td>No Pong</td>\n",
       "      <td>None</td>\n",
       "    </tr>\n",
       "    <tr>\n",
       "      <th>40</th>\n",
       "      <td>32922770</td>\n",
       "      <td>0x34ecf3f80ed9c1734c2d01fd5bc997ddacfb5434d8c6...</td>\n",
       "      <td>No Pong</td>\n",
       "      <td>None</td>\n",
       "    </tr>\n",
       "    <tr>\n",
       "      <th>41</th>\n",
       "      <td>32922791</td>\n",
       "      <td>0x223e76e9b796aa8f5c3b993bc170c7c5511f5143c1f7...</td>\n",
       "      <td>No Pong</td>\n",
       "      <td>None</td>\n",
       "    </tr>\n",
       "    <tr>\n",
       "      <th>42</th>\n",
       "      <td>32922901</td>\n",
       "      <td>0xa709abb6e97aebaa77c131a3e24873dc8273b8bbb78b...</td>\n",
       "      <td>No Pong</td>\n",
       "      <td>None</td>\n",
       "    </tr>\n",
       "    <tr>\n",
       "      <th>43</th>\n",
       "      <td>32922941</td>\n",
       "      <td>0x41231a53354c4652809d148f8fecd649d2b42b4a4f89...</td>\n",
       "      <td>No Pong</td>\n",
       "      <td>None</td>\n",
       "    </tr>\n",
       "    <tr>\n",
       "      <th>44</th>\n",
       "      <td>32923162</td>\n",
       "      <td>0x63e5f381cfdf938d28412e73b055ccb5994f133b3495...</td>\n",
       "      <td>No Pong</td>\n",
       "      <td>None</td>\n",
       "    </tr>\n",
       "    <tr>\n",
       "      <th>45</th>\n",
       "      <td>32923356</td>\n",
       "      <td>0xb80d05e6f344350e5ff7cf6202be9cdd96da5a55bad6...</td>\n",
       "      <td>No Pong</td>\n",
       "      <td>None</td>\n",
       "    </tr>\n",
       "    <tr>\n",
       "      <th>46</th>\n",
       "      <td>32923447</td>\n",
       "      <td>0x2b215f9204f579dc7f7bb8814d549e53a4b180af988a...</td>\n",
       "      <td>No Pong</td>\n",
       "      <td>None</td>\n",
       "    </tr>\n",
       "    <tr>\n",
       "      <th>47</th>\n",
       "      <td>32923487</td>\n",
       "      <td>0xf4196c695daa34ff8908cbcb317761586983e34abfb5...</td>\n",
       "      <td>No Pong</td>\n",
       "      <td>None</td>\n",
       "    </tr>\n",
       "    <tr>\n",
       "      <th>48</th>\n",
       "      <td>32923596</td>\n",
       "      <td>0xece53f6bcabb34d744a23bcf335c5d0db39a82ec5d36...</td>\n",
       "      <td>No Pong</td>\n",
       "      <td>None</td>\n",
       "    </tr>\n",
       "    <tr>\n",
       "      <th>49</th>\n",
       "      <td>32923657</td>\n",
       "      <td>0x6dababdd9af8a88ce3a5e2d4a7bdcace42e0db62dbc1...</td>\n",
       "      <td>No Pong</td>\n",
       "      <td>None</td>\n",
       "    </tr>\n",
       "    <tr>\n",
       "      <th>50</th>\n",
       "      <td>32923710</td>\n",
       "      <td>0x9ebe353dfd94f96a3b7cbc67cbcf33fcd888841b5c42...</td>\n",
       "      <td>No Pong</td>\n",
       "      <td>None</td>\n",
       "    </tr>\n",
       "    <tr>\n",
       "      <th>51</th>\n",
       "      <td>32923819</td>\n",
       "      <td>0x43d41bd0fdeb9110dd6577e164a6d696d54de388ce93...</td>\n",
       "      <td>No Pong</td>\n",
       "      <td>None</td>\n",
       "    </tr>\n",
       "    <tr>\n",
       "      <th>52</th>\n",
       "      <td>32923936</td>\n",
       "      <td>0x2a549e212402ec84b53a4c26b34498915fb7cc03bd87...</td>\n",
       "      <td>No Pong</td>\n",
       "      <td>None</td>\n",
       "    </tr>\n",
       "    <tr>\n",
       "      <th>53</th>\n",
       "      <td>32924109</td>\n",
       "      <td>0x210ae8919d9a9791bed2d79c2d664667b0f2fd55d90b...</td>\n",
       "      <td>No Pong</td>\n",
       "      <td>None</td>\n",
       "    </tr>\n",
       "    <tr>\n",
       "      <th>54</th>\n",
       "      <td>32924170</td>\n",
       "      <td>0xf3fa99e2c94c2c42bece44316372b1b2fcd1ee55d980...</td>\n",
       "      <td>No Pong</td>\n",
       "      <td>None</td>\n",
       "    </tr>\n",
       "    <tr>\n",
       "      <th>55</th>\n",
       "      <td>32924247</td>\n",
       "      <td>0xdabbc4b0a5c30d26b3c8050df0704ad0a685a8c54da3...</td>\n",
       "      <td>No Pong</td>\n",
       "      <td>None</td>\n",
       "    </tr>\n",
       "    <tr>\n",
       "      <th>56</th>\n",
       "      <td>32924263</td>\n",
       "      <td>0xbb59524bc2b61ecb248771dfc88c8fa73bb28dfe95ee...</td>\n",
       "      <td>No Pong</td>\n",
       "      <td>None</td>\n",
       "    </tr>\n",
       "    <tr>\n",
       "      <th>57</th>\n",
       "      <td>32924416</td>\n",
       "      <td>0x015a392415383997569b081f7309cf0ab36ef820a5bc...</td>\n",
       "      <td>No Pong</td>\n",
       "      <td>None</td>\n",
       "    </tr>\n",
       "  </tbody>\n",
       "</table>\n",
       "</div>"
      ],
      "text/plain": [
       "    blockNumber                                    transactionHash PongStatus  \\\n",
       "29     32922147  0x093de7af6ad2c2472ccd6174817fa9bc8a9d03ec5b44...    No Pong   \n",
       "30     32922217  0x22c1a403ef7948e8ed7f1f315fcbfffa9bf0f37aaa40...    No Pong   \n",
       "31     32922227  0x91632bb53f2c760663fb93e59d5c3b6a44dd099aa8b7...    No Pong   \n",
       "32     32922294  0x7e83f745c89db8bd28bd74307842402d50d82947a60e...    No Pong   \n",
       "33     32922427  0xb1403eeada738283cd1099fe2b2f6a3083f12d48abdf...    No Pong   \n",
       "34     32922467  0xa2cb8c6e5df71d90559e9b25bff3bc27bf4e2bde9f95...    No Pong   \n",
       "35     32922470  0x8064eeaf87d0d3350df2afb71198b94dcdbc4f1b1c93...    No Pong   \n",
       "36     32922561  0xcea9b724e718486a649515665f3a8345c127d52342a7...    No Pong   \n",
       "37     32922649  0x421d491c918f3633e0efa48852fce2a433c7b519c0ae...    No Pong   \n",
       "38     32922660  0xa0b8c4d1eb3b67641c22506242f5ac4f945a31340552...    No Pong   \n",
       "39     32922744  0x30567e8b82fab36af4adf9079e692bf346ebe32d5098...    No Pong   \n",
       "40     32922770  0x34ecf3f80ed9c1734c2d01fd5bc997ddacfb5434d8c6...    No Pong   \n",
       "41     32922791  0x223e76e9b796aa8f5c3b993bc170c7c5511f5143c1f7...    No Pong   \n",
       "42     32922901  0xa709abb6e97aebaa77c131a3e24873dc8273b8bbb78b...    No Pong   \n",
       "43     32922941  0x41231a53354c4652809d148f8fecd649d2b42b4a4f89...    No Pong   \n",
       "44     32923162  0x63e5f381cfdf938d28412e73b055ccb5994f133b3495...    No Pong   \n",
       "45     32923356  0xb80d05e6f344350e5ff7cf6202be9cdd96da5a55bad6...    No Pong   \n",
       "46     32923447  0x2b215f9204f579dc7f7bb8814d549e53a4b180af988a...    No Pong   \n",
       "47     32923487  0xf4196c695daa34ff8908cbcb317761586983e34abfb5...    No Pong   \n",
       "48     32923596  0xece53f6bcabb34d744a23bcf335c5d0db39a82ec5d36...    No Pong   \n",
       "49     32923657  0x6dababdd9af8a88ce3a5e2d4a7bdcace42e0db62dbc1...    No Pong   \n",
       "50     32923710  0x9ebe353dfd94f96a3b7cbc67cbcf33fcd888841b5c42...    No Pong   \n",
       "51     32923819  0x43d41bd0fdeb9110dd6577e164a6d696d54de388ce93...    No Pong   \n",
       "52     32923936  0x2a549e212402ec84b53a4c26b34498915fb7cc03bd87...    No Pong   \n",
       "53     32924109  0x210ae8919d9a9791bed2d79c2d664667b0f2fd55d90b...    No Pong   \n",
       "54     32924170  0xf3fa99e2c94c2c42bece44316372b1b2fcd1ee55d980...    No Pong   \n",
       "55     32924247  0xdabbc4b0a5c30d26b3c8050df0704ad0a685a8c54da3...    No Pong   \n",
       "56     32924263  0xbb59524bc2b61ecb248771dfc88c8fa73bb28dfe95ee...    No Pong   \n",
       "57     32924416  0x015a392415383997569b081f7309cf0ab36ef820a5bc...    No Pong   \n",
       "\n",
       "   Nonce  \n",
       "29  None  \n",
       "30  None  \n",
       "31  None  \n",
       "32  None  \n",
       "33  None  \n",
       "34  None  \n",
       "35  None  \n",
       "36  None  \n",
       "37  None  \n",
       "38  None  \n",
       "39  None  \n",
       "40  None  \n",
       "41  None  \n",
       "42  None  \n",
       "43  None  \n",
       "44  None  \n",
       "45  None  \n",
       "46  None  \n",
       "47  None  \n",
       "48  None  \n",
       "49  None  \n",
       "50  None  \n",
       "51  None  \n",
       "52  None  \n",
       "53  None  \n",
       "54  None  \n",
       "55  None  \n",
       "56  None  \n",
       "57  None  "
      ]
     },
     "execution_count": 94,
     "metadata": {},
     "output_type": "execute_result"
    }
   ],
   "source": []
  },
  {
   "cell_type": "code",
   "execution_count": 60,
   "metadata": {},
   "outputs": [],
   "source": [
    "from data_script import get_last_entry, get_first_unPonged, get_last_ponged\n",
    "from pong_transact import build_transaction, get_nonce, creds"
   ]
  },
  {
   "cell_type": "code",
   "execution_count": 3,
   "metadata": {},
   "outputs": [
    {
     "name": "stdout",
     "output_type": "stream",
     "text": [
      "There are no ponged entries\n"
     ]
    }
   ],
   "source": [
    "t = get_last_ponged()"
   ]
  },
  {
   "cell_type": "code",
   "execution_count": 34,
   "metadata": {},
   "outputs": [],
   "source": [
    "b_tx = build_transaction(nonce=96, pingHash='0xfe7e3bc7d5c0df2c822216fd76ca77eb8b71fe122142d3105661604d3260212f')"
   ]
  },
  {
   "cell_type": "code",
   "execution_count": 35,
   "metadata": {},
   "outputs": [
    {
     "data": {
      "text/plain": [
       "{'value': 0,\n",
       " 'chainId': 42,\n",
       " 'from': '0x2c6970cD99cC15CB1DB84AbD20F45c108670Cfae',\n",
       " 'nonce': 96,\n",
       " 'gas': 23200,\n",
       " 'gasPrice': 2500000007,\n",
       " 'to': '0x7D3a625977bFD7445466439E60C495bdc2855367',\n",
       " 'data': '0x05ba79a2fe7e3bc7d5c0df2c822216fd76ca77eb8b71fe122142d3105661604d3260212f'}"
      ]
     },
     "execution_count": 35,
     "metadata": {},
     "output_type": "execute_result"
    }
   ],
   "source": [
    "b_tx"
   ]
  },
  {
   "cell_type": "code",
   "execution_count": 58,
   "metadata": {},
   "outputs": [
    {
     "data": {
      "text/plain": [
       "96"
      ]
     },
     "execution_count": 58,
     "metadata": {},
     "output_type": "execute_result"
    }
   ],
   "source": [
    "get_nonce()"
   ]
  },
  {
   "cell_type": "code",
   "execution_count": 59,
   "metadata": {},
   "outputs": [
    {
     "data": {
      "text/plain": [
       "AttributeDict({'blockHash': HexBytes('0x89431dc1769ad37c5bca855c001cfa33d40a1f5d57239804ebb66637c34f7a6d'),\n",
       " 'blockNumber': 32989280,\n",
       " 'chainId': '0x2a',\n",
       " 'condition': None,\n",
       " 'creates': None,\n",
       " 'from': '0x2c6970cD99cC15CB1DB84AbD20F45c108670Cfae',\n",
       " 'gas': 23200,\n",
       " 'gasPrice': 2500000007,\n",
       " 'hash': HexBytes('0x4402c74289213965b65828050cddfa47c33a59252cc91402456589b8b541ee90'),\n",
       " 'input': '0x05ba79a2920d5dae91c8b6e6392c6911a4b6ab001a4072a750e17bc7a06e427c80ea35d2',\n",
       " 'nonce': 94,\n",
       " 'publicKey': HexBytes('0x59d32509511be027f755da141cd4a326c01fab43f191ac6caa3d6200f01b9013704dea0df3c4b3977a39a33f3a2787ee6961657819ad0af5febd729de53f73d1'),\n",
       " 'r': HexBytes('0xffdfba39a4c53dd070590241086251fdf3f54cbbe4b37ab5e2ceba94ce072d39'),\n",
       " 'raw': HexBytes('0xf8875e849502f907825aa0947d3a625977bfd7445466439e60c495bdc285536780a405ba79a2920d5dae91c8b6e6392c6911a4b6ab001a4072a750e17bc7a06e427c80ea35d278a0ffdfba39a4c53dd070590241086251fdf3f54cbbe4b37ab5e2ceba94ce072d39a07d2d7377b1263d8301b73944eb0b656c18cbac541aaa9baf4453889fbe6397fd'),\n",
       " 's': HexBytes('0x7d2d7377b1263d8301b73944eb0b656c18cbac541aaa9baf4453889fbe6397fd'),\n",
       " 'standardV': 1,\n",
       " 'to': '0x7D3a625977bFD7445466439E60C495bdc2855367',\n",
       " 'transactionIndex': 0,\n",
       " 'v': 120,\n",
       " 'value': 0})"
      ]
     },
     "execution_count": 59,
     "metadata": {},
     "output_type": "execute_result"
    }
   ],
   "source": [
    "last_tx = web3.eth.get_transaction('0x4402c74289213965b65828050cddfa47c33a59252cc91402456589b8b541ee90')\n",
    "last_tx"
   ]
  },
  {
   "cell_type": "code",
   "execution_count": 61,
   "metadata": {},
   "outputs": [
    {
     "data": {
      "text/plain": [
       "95"
      ]
     },
     "execution_count": 61,
     "metadata": {},
     "output_type": "execute_result"
    }
   ],
   "source": [
    "tx_count_wallet = web3.eth.get_transaction_count(creds['METAMASK_ADDRESS'])\n",
    "tx_count_wallet"
   ]
  },
  {
   "cell_type": "code",
   "execution_count": 71,
   "metadata": {},
   "outputs": [],
   "source": [
    "from web3.gas_strategies.time_based import medium_gas_price_strategy"
   ]
  },
  {
   "cell_type": "code",
   "execution_count": 74,
   "metadata": {},
   "outputs": [],
   "source": [
    "web3.eth.set_gas_price_strategy(medium_gas_price_strategy)\n"
   ]
  },
  {
   "cell_type": "code",
   "execution_count": 73,
   "metadata": {},
   "outputs": [
    {
     "data": {
      "text/plain": [
       "NoneType"
      ]
     },
     "execution_count": 73,
     "metadata": {},
     "output_type": "execute_result"
    }
   ],
   "source": [
    "type(t)"
   ]
  },
  {
   "cell_type": "code",
   "execution_count": 75,
   "metadata": {},
   "outputs": [
    {
     "data": {
      "text/plain": [
       "1500000008"
      ]
     },
     "execution_count": 75,
     "metadata": {},
     "output_type": "execute_result"
    }
   ],
   "source": [
    "web3.eth.generate_gas_price()"
   ]
  },
  {
   "cell_type": "code",
   "execution_count": 76,
   "metadata": {},
   "outputs": [
    {
     "data": {
      "text/plain": [
       "2500000007"
      ]
     },
     "execution_count": 76,
     "metadata": {},
     "output_type": "execute_result"
    }
   ],
   "source": [
    "web3.eth.gas_price"
   ]
  },
  {
   "cell_type": "code",
   "execution_count": 77,
   "metadata": {},
   "outputs": [
    {
     "data": {
      "text/plain": [
       "999999999"
      ]
     },
     "execution_count": 77,
     "metadata": {},
     "output_type": "execute_result"
    }
   ],
   "source": [
    "2500000007 - 1500000008"
   ]
  },
  {
   "cell_type": "code",
   "execution_count": 79,
   "metadata": {},
   "outputs": [],
   "source": [
    "tx = build_transaction(252, '0x2d3ab6888f4937c8b4f314fbb66f7fc00e4485f4f233b0eff1a749f05741b322')"
   ]
  },
  {
   "cell_type": "code",
   "execution_count": 82,
   "metadata": {},
   "outputs": [
    {
     "data": {
      "text/plain": [
       "57877500162057"
      ]
     },
     "execution_count": 82,
     "metadata": {},
     "output_type": "execute_result"
    }
   ],
   "source": [
    "23151 * 2500000007"
   ]
  },
  {
   "cell_type": "code",
   "execution_count": 80,
   "metadata": {},
   "outputs": [],
   "source": [
    "estimate = web3.eth.estimateGas(tx)"
   ]
  },
  {
   "cell_type": "code",
   "execution_count": 81,
   "metadata": {},
   "outputs": [
    {
     "data": {
      "text/plain": [
       "23151"
      ]
     },
     "execution_count": 81,
     "metadata": {},
     "output_type": "execute_result"
    }
   ],
   "source": [
    "estimate"
   ]
  },
  {
   "cell_type": "code",
   "execution_count": 110,
   "metadata": {},
   "outputs": [
    {
     "data": {
      "text/plain": [
       "1165190194858739"
      ]
     },
     "execution_count": 110,
     "metadata": {},
     "output_type": "execute_result"
    }
   ],
   "source": [
    "account_bal = web3.eth.get_balance(creds['METAMASK_ADDRESS'])\n",
    "account_bal"
   ]
  },
  {
   "cell_type": "code",
   "execution_count": 84,
   "metadata": {},
   "outputs": [
    {
     "data": {
      "text/plain": [
       "1.2641585229114e-05"
      ]
     },
     "execution_count": 84,
     "metadata": {},
     "output_type": "execute_result"
    }
   ],
   "source": [
    "12641585229114"
   ]
  },
  {
   "cell_type": "code",
   "execution_count": 90,
   "metadata": {},
   "outputs": [
    {
     "name": "stdout",
     "output_type": "stream",
     "text": [
      "0.000012641585229114\n"
     ]
    }
   ],
   "source": [
    "res = 12641585229114/10**18\n",
    "print(f\"{res:.18f}\")"
   ]
  },
  {
   "cell_type": "code",
   "execution_count": null,
   "metadata": {},
   "outputs": [],
   "source": [
    "# 0.000012641585229114 Ether"
   ]
  },
  {
   "cell_type": "code",
   "execution_count": 86,
   "metadata": {},
   "outputs": [
    {
     "data": {
      "text/plain": [
       "46400000000000"
      ]
     },
     "execution_count": 86,
     "metadata": {},
     "output_type": "execute_result"
    }
   ],
   "source": [
    "46400000000000"
   ]
  },
  {
   "cell_type": "code",
   "execution_count": 102,
   "metadata": {},
   "outputs": [],
   "source": [
    "t = 46400000000000/10**18"
   ]
  },
  {
   "cell_type": "code",
   "execution_count": 103,
   "metadata": {},
   "outputs": [
    {
     "name": "stdout",
     "output_type": "stream",
     "text": [
      "0.000046400000000\n"
     ]
    }
   ],
   "source": [
    "print(f\"{t:.15f}\")"
   ]
  },
  {
   "cell_type": "code",
   "execution_count": 99,
   "metadata": {},
   "outputs": [
    {
     "data": {
      "text/plain": [
       "AttributeDict({'blockHash': HexBytes('0x89431dc1769ad37c5bca855c001cfa33d40a1f5d57239804ebb66637c34f7a6d'),\n",
       " 'blockNumber': 32989280,\n",
       " 'chainId': '0x2a',\n",
       " 'condition': None,\n",
       " 'creates': None,\n",
       " 'from': '0x2c6970cD99cC15CB1DB84AbD20F45c108670Cfae',\n",
       " 'gas': 23200,\n",
       " 'gasPrice': 2500000007,\n",
       " 'hash': HexBytes('0x4402c74289213965b65828050cddfa47c33a59252cc91402456589b8b541ee90'),\n",
       " 'input': '0x05ba79a2920d5dae91c8b6e6392c6911a4b6ab001a4072a750e17bc7a06e427c80ea35d2',\n",
       " 'nonce': 94,\n",
       " 'publicKey': HexBytes('0x59d32509511be027f755da141cd4a326c01fab43f191ac6caa3d6200f01b9013704dea0df3c4b3977a39a33f3a2787ee6961657819ad0af5febd729de53f73d1'),\n",
       " 'r': HexBytes('0xffdfba39a4c53dd070590241086251fdf3f54cbbe4b37ab5e2ceba94ce072d39'),\n",
       " 'raw': HexBytes('0xf8875e849502f907825aa0947d3a625977bfd7445466439e60c495bdc285536780a405ba79a2920d5dae91c8b6e6392c6911a4b6ab001a4072a750e17bc7a06e427c80ea35d278a0ffdfba39a4c53dd070590241086251fdf3f54cbbe4b37ab5e2ceba94ce072d39a07d2d7377b1263d8301b73944eb0b656c18cbac541aaa9baf4453889fbe6397fd'),\n",
       " 's': HexBytes('0x7d2d7377b1263d8301b73944eb0b656c18cbac541aaa9baf4453889fbe6397fd'),\n",
       " 'standardV': 1,\n",
       " 'to': '0x7D3a625977bFD7445466439E60C495bdc2855367',\n",
       " 'transactionIndex': 0,\n",
       " 'v': 120,\n",
       " 'value': 0})"
      ]
     },
     "execution_count": 99,
     "metadata": {},
     "output_type": "execute_result"
    }
   ],
   "source": [
    "web3.eth.get_transaction('0x4402c74289213965b65828050cddfa47c33a59252cc91402456589b8b541ee90')"
   ]
  },
  {
   "cell_type": "code",
   "execution_count": 104,
   "metadata": {},
   "outputs": [],
   "source": [
    "transaction_fee_eth = 0.000023151000162057\n",
    "# 0.000023151000162057 "
   ]
  },
  {
   "cell_type": "code",
   "execution_count": 112,
   "metadata": {},
   "outputs": [
    {
     "data": {
      "text/plain": [
       "0.001165190194858739"
      ]
     },
     "execution_count": 112,
     "metadata": {},
     "output_type": "execute_result"
    }
   ],
   "source": [
    "bal_wei = account_bal/10**18\n",
    "bal_wei"
   ]
  },
  {
   "cell_type": "code",
   "execution_count": 118,
   "metadata": {},
   "outputs": [
    {
     "data": {
      "text/plain": [
       "0.001165190194858739"
      ]
     },
     "execution_count": 118,
     "metadata": {},
     "output_type": "execute_result"
    }
   ],
   "source": [
    "float(web3.fromWei(account_bal, 'ether'))"
   ]
  },
  {
   "cell_type": "code",
   "execution_count": 113,
   "metadata": {},
   "outputs": [
    {
     "data": {
      "text/plain": [
       "50.33001540764579"
      ]
     },
     "execution_count": 113,
     "metadata": {},
     "output_type": "execute_result"
    }
   ],
   "source": [
    "bal_wei/transaction_fee_eth"
   ]
  },
  {
   "cell_type": "code",
   "execution_count": 114,
   "metadata": {},
   "outputs": [
    {
     "data": {
      "text/plain": [
       "1165190194858739"
      ]
     },
     "execution_count": 114,
     "metadata": {},
     "output_type": "execute_result"
    }
   ],
   "source": [
    "account_bal"
   ]
  },
  {
   "cell_type": "code",
   "execution_count": 4,
   "metadata": {},
   "outputs": [],
   "source": [
    "import asyncio\n",
    "\n",
    "async def nested():\n",
    "    return 42\n",
    "\n",
    "async def main():\n",
    "    # Schedule nested() to run soon concurrently\n",
    "    # with \"main()\".\n",
    "    task = asyncio.create_task(nested())\n",
    "\n",
    "    # \"task\" can now be used to cancel \"nested()\", or\n",
    "    # can simply be awaited to wait until it is complete:\n",
    "    await task\n",
    "\n",
    "# asyncio.run(main())"
   ]
  },
  {
   "cell_type": "code",
   "execution_count": 5,
   "metadata": {},
   "outputs": [
    {
     "data": {
      "text/plain": [
       "42"
      ]
     },
     "execution_count": 5,
     "metadata": {},
     "output_type": "execute_result"
    }
   ],
   "source": [
    "await nested()"
   ]
  },
  {
   "cell_type": "code",
   "execution_count": null,
   "metadata": {},
   "outputs": [],
   "source": []
  }
 ],
 "metadata": {
  "kernelspec": {
   "display_name": "Python 3.10.4 ('env': venv)",
   "language": "python",
   "name": "python3"
  },
  "language_info": {
   "codemirror_mode": {
    "name": "ipython",
    "version": 3
   },
   "file_extension": ".py",
   "mimetype": "text/x-python",
   "name": "python",
   "nbconvert_exporter": "python",
   "pygments_lexer": "ipython3",
   "version": "3.10.4"
  },
  "orig_nbformat": 4,
  "vscode": {
   "interpreter": {
    "hash": "6ae4adf423d6352fde2764629b2bbc3d6512f2be38d33a1abd50adb153c80261"
   }
  }
 },
 "nbformat": 4,
 "nbformat_minor": 2
}
