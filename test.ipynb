{
 "cells": [
  {
   "cell_type": "code",
   "execution_count": 236,
   "metadata": {},
   "outputs": [],
   "source": [
    "import sqlite3\n",
    "import pandas as pd\n",
    "import numpy as np"
   ]
  },
  {
   "cell_type": "code",
   "execution_count": 167,
   "metadata": {},
   "outputs": [],
   "source": [
    "conn2 = sqlite3.connect(':memory:')\n",
    "c2 = conn2.cursor()"
   ]
  },
  {
   "cell_type": "code",
   "execution_count": 168,
   "metadata": {},
   "outputs": [],
   "source": [
    "ents = [(32592188, '0x3f789c6d47b6b29c58e0534a3e9c8c325c088b2411d1b7c76dfb3fcea7e8130b'), \n",
    "        (32592368, '0x6799085cec26aedb774a27554f7da7c5a4205e69737ff6e730fd5ab662081d6c'),\n",
    "        (32592420, '0x82ea0cc9a3311c74c0b7d8ea896474eb4444d43edd6157d48708f2d62100b2ef')]"
   ]
  },
  {
   "cell_type": "code",
   "execution_count": 169,
   "metadata": {},
   "outputs": [],
   "source": [
    "df = pd.DataFrame(data=ents, columns = ['blockNumber', 'transactionHash'])"
   ]
  },
  {
   "cell_type": "code",
   "execution_count": 170,
   "metadata": {},
   "outputs": [],
   "source": [
    "df.to_csv('ping_data.csv', index=False)"
   ]
  },
  {
   "cell_type": "code",
   "execution_count": 171,
   "metadata": {},
   "outputs": [],
   "source": [
    "pd_df = pd.read_csv('ping_data.csv')"
   ]
  },
  {
   "cell_type": "code",
   "execution_count": 172,
   "metadata": {},
   "outputs": [
    {
     "data": {
      "text/html": [
       "<div>\n",
       "<style scoped>\n",
       "    .dataframe tbody tr th:only-of-type {\n",
       "        vertical-align: middle;\n",
       "    }\n",
       "\n",
       "    .dataframe tbody tr th {\n",
       "        vertical-align: top;\n",
       "    }\n",
       "\n",
       "    .dataframe thead th {\n",
       "        text-align: right;\n",
       "    }\n",
       "</style>\n",
       "<table border=\"1\" class=\"dataframe\">\n",
       "  <thead>\n",
       "    <tr style=\"text-align: right;\">\n",
       "      <th></th>\n",
       "      <th>blockNumber</th>\n",
       "      <th>transactionHash</th>\n",
       "    </tr>\n",
       "  </thead>\n",
       "  <tbody>\n",
       "    <tr>\n",
       "      <th>0</th>\n",
       "      <td>32592188</td>\n",
       "      <td>0x3f789c6d47b6b29c58e0534a3e9c8c325c088b2411d1...</td>\n",
       "    </tr>\n",
       "    <tr>\n",
       "      <th>1</th>\n",
       "      <td>32592368</td>\n",
       "      <td>0x6799085cec26aedb774a27554f7da7c5a4205e69737f...</td>\n",
       "    </tr>\n",
       "    <tr>\n",
       "      <th>2</th>\n",
       "      <td>32592420</td>\n",
       "      <td>0x82ea0cc9a3311c74c0b7d8ea896474eb4444d43edd61...</td>\n",
       "    </tr>\n",
       "  </tbody>\n",
       "</table>\n",
       "</div>"
      ],
      "text/plain": [
       "   blockNumber                                    transactionHash\n",
       "0     32592188  0x3f789c6d47b6b29c58e0534a3e9c8c325c088b2411d1...\n",
       "1     32592368  0x6799085cec26aedb774a27554f7da7c5a4205e69737f...\n",
       "2     32592420  0x82ea0cc9a3311c74c0b7d8ea896474eb4444d43edd61..."
      ]
     },
     "execution_count": 172,
     "metadata": {},
     "output_type": "execute_result"
    }
   ],
   "source": [
    "pd_df"
   ]
  },
  {
   "cell_type": "code",
   "execution_count": 173,
   "metadata": {},
   "outputs": [],
   "source": [
    "one = (32592420, '0x82ea0cc9a3311c74c0b7d8ea896474eb4444d43edd6157d48708f2d62100b2ef')\n",
    "two = (32592420, '0x82ea0cc9a3311c74c0b7d8ea896474eb4444d43edd6157d48708f2d62100b2fg')"
   ]
  },
  {
   "cell_type": "code",
   "execution_count": 174,
   "metadata": {},
   "outputs": [
    {
     "data": {
      "text/plain": [
       "True"
      ]
     },
     "execution_count": 174,
     "metadata": {},
     "output_type": "execute_result"
    }
   ],
   "source": []
  },
  {
   "cell_type": "code",
   "execution_count": 175,
   "metadata": {},
   "outputs": [],
   "source": [
    "# def data_in_ping_df(ping_data:tuple)-> bool:\n",
    "#     global pd_df\n",
    "#     return ping_data[1] in pd_df['transactionHash'].values"
   ]
  },
  {
   "cell_type": "code",
   "execution_count": 176,
   "metadata": {},
   "outputs": [],
   "source": [
    "def add_to_ping_csv(ping_data:tuple) -> None:\n",
    "    _, transactionHash = ping_data\n",
    "    # Open the csv into a df\n",
    "    pd_df = pd.read_csv('ping_data.csv')\n",
    "    # Check to see if the data exists\n",
    "    if not transactionHash in pd_df['transactionHash'].values:\n",
    "        # Add ping_data to df\n",
    "        pd_df.loc[len(pd_df)] = ping_data\n",
    "    # Write df to CSF\n",
    "    pd_df.to_csv('ping_data.csv', index=False)"
   ]
  },
  {
   "cell_type": "code",
   "execution_count": 177,
   "metadata": {},
   "outputs": [],
   "source": [
    "add_to_ping_csv(one)"
   ]
  },
  {
   "cell_type": "code",
   "execution_count": 178,
   "metadata": {},
   "outputs": [],
   "source": [
    "add_to_ping_csv(two)"
   ]
  },
  {
   "cell_type": "code",
   "execution_count": 179,
   "metadata": {},
   "outputs": [],
   "source": [
    "pd_df =  pd.read_csv('ping_data.csv')"
   ]
  },
  {
   "cell_type": "code",
   "execution_count": 180,
   "metadata": {},
   "outputs": [
    {
     "data": {
      "text/plain": [
       "(32592420,\n",
       " '0x82ea0cc9a3311c74c0b7d8ea896474eb4444d43edd6157d48708f2d62100b2fg')"
      ]
     },
     "execution_count": 180,
     "metadata": {},
     "output_type": "execute_result"
    }
   ],
   "source": [
    "tuple(pd_df.iloc[-1].values)"
   ]
  },
  {
   "cell_type": "code",
   "execution_count": 181,
   "metadata": {},
   "outputs": [],
   "source": [
    "def get_last_entry() -> tuple:\n",
    "    pd_df = pd.read_csv('ping_data.csv')\n",
    "    return tuple(pd_df.iloc[-1].values)\n"
   ]
  },
  {
   "cell_type": "code",
   "execution_count": 182,
   "metadata": {},
   "outputs": [],
   "source": [
    "last_blockNumber, _ = get_last_entry()"
   ]
  },
  {
   "cell_type": "code",
   "execution_count": 183,
   "metadata": {},
   "outputs": [
    {
     "data": {
      "text/plain": [
       "32592420"
      ]
     },
     "execution_count": 183,
     "metadata": {},
     "output_type": "execute_result"
    }
   ],
   "source": [
    "last_blockNumber"
   ]
  },
  {
   "cell_type": "code",
   "execution_count": 184,
   "metadata": {},
   "outputs": [],
   "source": [
    "from listner import pingpong_contract, web3\n",
    "from hexbytes import HexBytes "
   ]
  },
  {
   "cell_type": "code",
   "execution_count": 185,
   "metadata": {},
   "outputs": [],
   "source": [
    "ping_hash = HexBytes('0x82ea0cc9a3311c74c0b7d8ea896474eb4444d43edd6157d48708f2d62100b2ef')"
   ]
  },
  {
   "cell_type": "code",
   "execution_count": 186,
   "metadata": {},
   "outputs": [],
   "source": [
    "# pingpong_contract.functions.pong('0x82ea0cc9a3311c74c0b7d8ea896474eb4444d43edd6157d48708f2d62100b2ef').build_transaction({'nonce': 10})\n",
    "\n",
    "# tx = greeter.functions.greet(\"newGreet\").buildTransaction({'nonce': web3.eth.getTransactionCount('your accountaddress')}}\n",
    "\n",
    "# tx = pingpong_contract.functions.pong('0x82ea0cc9a3311c74c0b7d8ea896474eb4444d43edd6157d48708f2d62100b2ef').transact({'nonce': 10})\n"
   ]
  },
  {
   "cell_type": "code",
   "execution_count": 188,
   "metadata": {},
   "outputs": [],
   "source": [
    "# web3.eth.estimateGas(signed_tx)"
   ]
  },
  {
   "cell_type": "code",
   "execution_count": 189,
   "metadata": {},
   "outputs": [
    {
     "data": {
      "text/plain": [
       "\"\\nnum = ...\\n# build transaction\\nbuild_tx = contract.functions.set(num).buildTransaction({\\n    'from': ...,\\n    'nonce': ...,\\n    'gas': ...,\\n    'gasPrice': ...\\n})\\n# sign transaction\\nsign_tx = w3.eth.account.signTransaction(build_tx, private_key)\\n# send the transaction\\ntx_hash = w3.eth.sendRawTransaction(sign_tx.rawTransaction)\\n\\n\""
      ]
     },
     "execution_count": 189,
     "metadata": {},
     "output_type": "execute_result"
    }
   ],
   "source": [
    "'''\n",
    "num = ...\n",
    "# build transaction\n",
    "build_tx = contract.functions.set(num).buildTransaction({\n",
    "    'from': ...,\n",
    "    'nonce': ...,\n",
    "    'gas': ...,\n",
    "    'gasPrice': ...\n",
    "})\n",
    "# sign transaction\n",
    "sign_tx = w3.eth.account.signTransaction(build_tx, private_key)\n",
    "# send the transaction\n",
    "tx_hash = w3.eth.sendRawTransaction(sign_tx.rawTransaction)\n",
    "\n",
    "'''\n",
    "\n"
   ]
  },
  {
   "cell_type": "code",
   "execution_count": 271,
   "metadata": {},
   "outputs": [
    {
     "name": "stdout",
     "output_type": "stream",
     "text": [
      "{'value': 0, 'chainId': 42, 'from': '00000', 'nonce': 0, 'gas': 100000, 'gasPrice': 2500000007, 'to': '0x7D3a625977bFD7445466439E60C495bdc2855367', 'data': '0x05ba79a282ea0cc9a3311c74c0b7d8ea896474eb4444d43edd6157d48708f2d62100b2ef'}\n"
     ]
    }
   ],
   "source": [
    "ping_hash = '0x82ea0cc9a3311c74c0b7d8ea896474eb4444d43edd6157d48708f2d62100b2ef'\n",
    "\n",
    "build_tx = pingpong_contract.functions.pong(ping_hash).buildTransaction({\n",
    "        'from':'00000',\n",
    "        'nonce':0,\n",
    "        'gas': 100000,\n",
    "        'gasPrice':web3.eth.gas_price\n",
    "    })\n",
    "\n",
    "print(build_tx)"
   ]
  },
  {
   "cell_type": "code",
   "execution_count": 191,
   "metadata": {},
   "outputs": [],
   "source": [
    "# Use this to estimate gas\n",
    "# web3.eth.estimate_gas(build_tx)"
   ]
  },
  {
   "cell_type": "code",
   "execution_count": 192,
   "metadata": {},
   "outputs": [
    {
     "data": {
      "text/plain": [
       "5000000000"
      ]
     },
     "execution_count": 192,
     "metadata": {},
     "output_type": "execute_result"
    }
   ],
   "source": [
    "web3.eth.gas_price"
   ]
  },
  {
   "cell_type": "code",
   "execution_count": 193,
   "metadata": {},
   "outputs": [],
   "source": [
    "import time\n",
    "\n",
    "LOCKED = False\n",
    "\n",
    "def wait_for_lock(func):\n",
    "    ''' Decorator function to ensure that Ping & Pong \n",
    "        don't write to CSV file at the same time'''\n",
    "    def wrapper(*args, **kwargs):\n",
    "        global LOCKED\n",
    "        if not LOCKED:\n",
    "            LOCKED = True\n",
    "            func(*args, **kwargs)\n",
    "            LOCKED = False\n",
    "        else:\n",
    "            for i in range(10):\n",
    "                if not LOCKED:\n",
    "                    LOCKED = True\n",
    "                    func(*args, **kwargs)\n",
    "                    LOCKED = False\n",
    "                else:\n",
    "                    time.sleep(2)\n",
    "    return wrapper \n",
    "\n",
    "@wait_for_lock\n",
    "def ping(sleep:int):\n",
    "    time.sleep(sleep)\n",
    "    print(\"Ping\")\n",
    "\n",
    "@wait_for_lock\n",
    "def pong(sleep:int):\n",
    "    time.sleep(sleep)\n",
    "    print(\"Pong\")\n",
    "\n",
    "\n"
   ]
  },
  {
   "cell_type": "code",
   "execution_count": 254,
   "metadata": {},
   "outputs": [],
   "source": [
    "pigd = (32592420, '0x82ea0cc9a3311c74c0b7d8ea896474eb4444d43edd6157d48708f2d62100b2fg')\n",
    "\n",
    "pdff = pd.DataFrame(columns = ['blockNumber', 'transactionHash', 'PongStatus'])"
   ]
  },
  {
   "cell_type": "code",
   "execution_count": 255,
   "metadata": {},
   "outputs": [
    {
     "data": {
      "text/plain": [
       "0"
      ]
     },
     "execution_count": 255,
     "metadata": {},
     "output_type": "execute_result"
    }
   ],
   "source": [
    "len(pdff)"
   ]
  },
  {
   "cell_type": "code",
   "execution_count": 256,
   "metadata": {},
   "outputs": [
    {
     "data": {
      "text/plain": [
       "[32592420,\n",
       " '0x82ea0cc9a3311c74c0b7d8ea896474eb4444d43edd6157d48708f2d62100b2fg',\n",
       " 0]"
      ]
     },
     "execution_count": 256,
     "metadata": {},
     "output_type": "execute_result"
    }
   ],
   "source": [
    "inp = list(pigd)\n",
    "inp.append(0)\n",
    "inp\n"
   ]
  },
  {
   "cell_type": "code",
   "execution_count": 257,
   "metadata": {},
   "outputs": [
    {
     "data": {
      "text/html": [
       "<div>\n",
       "<style scoped>\n",
       "    .dataframe tbody tr th:only-of-type {\n",
       "        vertical-align: middle;\n",
       "    }\n",
       "\n",
       "    .dataframe tbody tr th {\n",
       "        vertical-align: top;\n",
       "    }\n",
       "\n",
       "    .dataframe thead th {\n",
       "        text-align: right;\n",
       "    }\n",
       "</style>\n",
       "<table border=\"1\" class=\"dataframe\">\n",
       "  <thead>\n",
       "    <tr style=\"text-align: right;\">\n",
       "      <th></th>\n",
       "      <th>blockNumber</th>\n",
       "      <th>transactionHash</th>\n",
       "      <th>PongStatus</th>\n",
       "    </tr>\n",
       "  </thead>\n",
       "  <tbody>\n",
       "    <tr>\n",
       "      <th>0</th>\n",
       "      <td>32592420</td>\n",
       "      <td>0x82ea0cc9a3311c74c0b7d8ea896474eb4444d43edd61...</td>\n",
       "      <td>0</td>\n",
       "    </tr>\n",
       "  </tbody>\n",
       "</table>\n",
       "</div>"
      ],
      "text/plain": [
       "   blockNumber                                    transactionHash  PongStatus\n",
       "0     32592420  0x82ea0cc9a3311c74c0b7d8ea896474eb4444d43edd61...           0"
      ]
     },
     "execution_count": 257,
     "metadata": {},
     "output_type": "execute_result"
    }
   ],
   "source": [
    "pdff.loc[len(pdff)] = inp\n",
    "pdff\n",
    "\n",
    "# pdff.append({col:i for (col, i) in zip(pdff.columns, inp)}, ignore_index=True)"
   ]
  },
  {
   "cell_type": "code",
   "execution_count": 258,
   "metadata": {},
   "outputs": [
    {
     "data": {
      "text/html": [
       "<div>\n",
       "<style scoped>\n",
       "    .dataframe tbody tr th:only-of-type {\n",
       "        vertical-align: middle;\n",
       "    }\n",
       "\n",
       "    .dataframe tbody tr th {\n",
       "        vertical-align: top;\n",
       "    }\n",
       "\n",
       "    .dataframe thead th {\n",
       "        text-align: right;\n",
       "    }\n",
       "</style>\n",
       "<table border=\"1\" class=\"dataframe\">\n",
       "  <thead>\n",
       "    <tr style=\"text-align: right;\">\n",
       "      <th></th>\n",
       "      <th>blockNumber</th>\n",
       "      <th>transactionHash</th>\n",
       "      <th>PongStatus</th>\n",
       "    </tr>\n",
       "  </thead>\n",
       "  <tbody>\n",
       "    <tr>\n",
       "      <th>0</th>\n",
       "      <td>32592420</td>\n",
       "      <td>0x82ea0cc9a3311c74c0b7d8ea896474eb4444d43edd61...</td>\n",
       "      <td>0</td>\n",
       "    </tr>\n",
       "  </tbody>\n",
       "</table>\n",
       "</div>"
      ],
      "text/plain": [
       "   blockNumber                                    transactionHash  PongStatus\n",
       "0     32592420  0x82ea0cc9a3311c74c0b7d8ea896474eb4444d43edd61...           0"
      ]
     },
     "execution_count": 258,
     "metadata": {},
     "output_type": "execute_result"
    }
   ],
   "source": [
    "pdff"
   ]
  },
  {
   "cell_type": "code",
   "execution_count": 259,
   "metadata": {},
   "outputs": [],
   "source": [
    "another = [32623896, '0x7b8a0f3eb531143840662fe059356486ad5d9c1c2838aec40ad58395a90e5269', 0]"
   ]
  },
  {
   "cell_type": "code",
   "execution_count": 260,
   "metadata": {},
   "outputs": [
    {
     "data": {
      "text/html": [
       "<div>\n",
       "<style scoped>\n",
       "    .dataframe tbody tr th:only-of-type {\n",
       "        vertical-align: middle;\n",
       "    }\n",
       "\n",
       "    .dataframe tbody tr th {\n",
       "        vertical-align: top;\n",
       "    }\n",
       "\n",
       "    .dataframe thead th {\n",
       "        text-align: right;\n",
       "    }\n",
       "</style>\n",
       "<table border=\"1\" class=\"dataframe\">\n",
       "  <thead>\n",
       "    <tr style=\"text-align: right;\">\n",
       "      <th></th>\n",
       "      <th>blockNumber</th>\n",
       "      <th>transactionHash</th>\n",
       "      <th>PongStatus</th>\n",
       "    </tr>\n",
       "  </thead>\n",
       "  <tbody>\n",
       "    <tr>\n",
       "      <th>0</th>\n",
       "      <td>32592420</td>\n",
       "      <td>0x82ea0cc9a3311c74c0b7d8ea896474eb4444d43edd61...</td>\n",
       "      <td>0</td>\n",
       "    </tr>\n",
       "    <tr>\n",
       "      <th>1</th>\n",
       "      <td>32623896</td>\n",
       "      <td>0x7b8a0f3eb531143840662fe059356486ad5d9c1c2838...</td>\n",
       "      <td>0</td>\n",
       "    </tr>\n",
       "  </tbody>\n",
       "</table>\n",
       "</div>"
      ],
      "text/plain": [
       "   blockNumber                                    transactionHash  PongStatus\n",
       "0     32592420  0x82ea0cc9a3311c74c0b7d8ea896474eb4444d43edd61...           0\n",
       "1     32623896  0x7b8a0f3eb531143840662fe059356486ad5d9c1c2838...           0"
      ]
     },
     "execution_count": 260,
     "metadata": {},
     "output_type": "execute_result"
    }
   ],
   "source": [
    "pdff.loc[len(pdff)] = another\n",
    "pdff"
   ]
  },
  {
   "cell_type": "code",
   "execution_count": 267,
   "metadata": {},
   "outputs": [
    {
     "data": {
      "text/plain": [
       "1"
      ]
     },
     "execution_count": 267,
     "metadata": {},
     "output_type": "execute_result"
    }
   ],
   "source": [
    "# def get_first_unPonged():\n",
    "# Read csv\n",
    "# Returns the first index of unPonged\n",
    "index = pdff.loc[pdff['PongStatus'] == 0].head(1).index[0]\n",
    "index"
   ]
  },
  {
   "cell_type": "code",
   "execution_count": 269,
   "metadata": {},
   "outputs": [
    {
     "data": {
      "text/plain": [
       "'0x7b8a0f3eb531143840662fe059356486ad5d9c1c2838aec40ad58395a90e5269'"
      ]
     },
     "execution_count": 269,
     "metadata": {},
     "output_type": "execute_result"
    }
   ],
   "source": [
    "pdff.iloc[index]['transactionHash']\n",
    "# Do something -> send a Pong"
   ]
  },
  {
   "cell_type": "code",
   "execution_count": 265,
   "metadata": {},
   "outputs": [],
   "source": [
    "pdff.loc[index,'PongStatus'] = 1"
   ]
  },
  {
   "cell_type": "code",
   "execution_count": 266,
   "metadata": {},
   "outputs": [
    {
     "data": {
      "text/html": [
       "<div>\n",
       "<style scoped>\n",
       "    .dataframe tbody tr th:only-of-type {\n",
       "        vertical-align: middle;\n",
       "    }\n",
       "\n",
       "    .dataframe tbody tr th {\n",
       "        vertical-align: top;\n",
       "    }\n",
       "\n",
       "    .dataframe thead th {\n",
       "        text-align: right;\n",
       "    }\n",
       "</style>\n",
       "<table border=\"1\" class=\"dataframe\">\n",
       "  <thead>\n",
       "    <tr style=\"text-align: right;\">\n",
       "      <th></th>\n",
       "      <th>blockNumber</th>\n",
       "      <th>transactionHash</th>\n",
       "      <th>PongStatus</th>\n",
       "    </tr>\n",
       "  </thead>\n",
       "  <tbody>\n",
       "    <tr>\n",
       "      <th>0</th>\n",
       "      <td>32592420</td>\n",
       "      <td>0x82ea0cc9a3311c74c0b7d8ea896474eb4444d43edd61...</td>\n",
       "      <td>1</td>\n",
       "    </tr>\n",
       "    <tr>\n",
       "      <th>1</th>\n",
       "      <td>32623896</td>\n",
       "      <td>0x7b8a0f3eb531143840662fe059356486ad5d9c1c2838...</td>\n",
       "      <td>0</td>\n",
       "    </tr>\n",
       "  </tbody>\n",
       "</table>\n",
       "</div>"
      ],
      "text/plain": [
       "   blockNumber                                    transactionHash  PongStatus\n",
       "0     32592420  0x82ea0cc9a3311c74c0b7d8ea896474eb4444d43edd61...           1\n",
       "1     32623896  0x7b8a0f3eb531143840662fe059356486ad5d9c1c2838...           0"
      ]
     },
     "execution_count": 266,
     "metadata": {},
     "output_type": "execute_result"
    }
   ],
   "source": [
    "pdff"
   ]
  },
  {
   "cell_type": "code",
   "execution_count": 270,
   "metadata": {},
   "outputs": [
    {
     "data": {
      "text/plain": [
       "numpy.int64"
      ]
     },
     "execution_count": 270,
     "metadata": {},
     "output_type": "execute_result"
    }
   ],
   "source": [
    "type(index)"
   ]
  },
  {
   "cell_type": "code",
   "execution_count": 275,
   "metadata": {},
   "outputs": [],
   "source": [
    "# from pong_transact import tx_hash\n",
    "import datetime"
   ]
  },
  {
   "cell_type": "code",
   "execution_count": 279,
   "metadata": {},
   "outputs": [],
   "source": [
    "\n",
    "counter_start = None\n",
    "max_time = 5\n",
    "\n",
    "def test():\n",
    "    counter_start = datetime.datetime.now()\n",
    "    time.sleep(10)\n",
    "    current_time = datetime.datetime.now()\n",
    "    if current_time > counter_start + datetime.timedelta(seconds=max_time):\n",
    "        print(\"Taking too long\")\n",
    "    \n",
    "\n",
    "\n",
    "\n",
    "\n"
   ]
  },
  {
   "cell_type": "code",
   "execution_count": 280,
   "metadata": {},
   "outputs": [
    {
     "name": "stdout",
     "output_type": "stream",
     "text": [
      "Taking too long\n"
     ]
    }
   ],
   "source": [
    "test()"
   ]
  },
  {
   "cell_type": "code",
   "execution_count": null,
   "metadata": {},
   "outputs": [],
   "source": []
  }
 ],
 "metadata": {
  "kernelspec": {
   "display_name": "Python 3.10.4 ('env': venv)",
   "language": "python",
   "name": "python3"
  },
  "language_info": {
   "codemirror_mode": {
    "name": "ipython",
    "version": 3
   },
   "file_extension": ".py",
   "mimetype": "text/x-python",
   "name": "python",
   "nbconvert_exporter": "python",
   "pygments_lexer": "ipython3",
   "version": "3.10.4"
  },
  "orig_nbformat": 4,
  "vscode": {
   "interpreter": {
    "hash": "6ae4adf423d6352fde2764629b2bbc3d6512f2be38d33a1abd50adb153c80261"
   }
  }
 },
 "nbformat": 4,
 "nbformat_minor": 2
}
